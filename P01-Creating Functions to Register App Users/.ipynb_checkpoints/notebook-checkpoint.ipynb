{
 "cells": [
  {
   "cell_type": "markdown",
   "id": "6e370b0b-6e81-4354-985f-35f5613395b9",
   "metadata": {},
   "source": [
    "![img.jpg](img.jpg)"
   ]
  },
  {
   "cell_type": "markdown",
   "id": "d5de32ba-01b3-494d-82b7-05a1ca26b3c2",
   "metadata": {},
   "source": [
    "You are a junior developer working in a small start-up. Your managers have asked you to develop a new account registration system for a mobile app. The system must validate user input on the sign-up form before creating an account. \n",
    "\n",
    "The previous junior developer wrote some helper functions that validate the name, email, and password. Use these functions to register users, store their data, and implement some error handling! These have been imported into the workspace for you. They will be a great help to you when registering the user, but first you have to understand what the function does! Inspect the docstrings of each of the helper functions: `validate_name`, `validate_email` and `validate_password`."
   ]
  },
  {
   "cell_type": "code",
   "execution_count": 17,
   "id": "41fcd31a-cfdb-400b-8dac-07f3728fa0e6",
   "metadata": {},
   "outputs": [],
   "source": [
    "from python_functions import validate_name, validate_email, validate_password, top_level_domains"
   ]
  },
  {
   "cell_type": "code",
   "execution_count": 18,
   "id": "090c37ba-3f08-4192-a78e-285029764c54",
   "metadata": {},
   "outputs": [
    {
     "name": "stdout",
     "output_type": "stream",
     "text": [
      " Checks that the name is greater than two characters and is a string data type.\n",
      "\n",
      " Args:\n",
      "    name (str): The inputted name from the user.\n",
      "\n",
      " Returns:\n",
      "    bool: True if the name passes the check, False otherwise.\n",
      "    \n"
     ]
    }
   ],
   "source": [
    "print(validate_name.__doc__)"
   ]
  },
  {
   "cell_type": "code",
   "execution_count": 19,
   "id": "f490ed83-2bd1-4eec-bdde-38579dfd9d67",
   "metadata": {},
   "outputs": [
    {
     "name": "stdout",
     "output_type": "stream",
     "text": [
      " Checks that the email address is in a valid format, has a username greater than 1 character, an '@' symbol, and an allowed domain that is in the `top_level_domains` variable.\n",
      "\n",
      "  Args:\n",
      "    email (str): The inputted email from the user.\n",
      "\n",
      "  Returns:\n",
      "    bool: True if the email passes the checks, False otherwise.\n",
      "    \n"
     ]
    }
   ],
   "source": [
    "print(validate_email.__doc__)"
   ]
  },
  {
   "cell_type": "code",
   "execution_count": 20,
   "id": "9fb342e8-42fe-4e53-aa1f-911ceb910728",
   "metadata": {},
   "outputs": [
    {
     "name": "stdout",
     "output_type": "stream",
     "text": [
      " Checks that the password is strong enough. It should include a capital letter, a number between 0-9 and be greater than 8 characters.\n",
      "\n",
      "  Args:\n",
      "    password (str): The inputted password from the user.\n",
      "\n",
      "  Returns:\n",
      "    bool: True if the password passes the checks, False otherwise.\n",
      "    \n"
     ]
    }
   ],
   "source": [
    "print(validate_password.__doc__)"
   ]
  },
  {
   "cell_type": "code",
   "execution_count": 21,
   "id": "4aaf6632-78cd-410c-86de-188cd0639b96",
   "metadata": {},
   "outputs": [
    {
     "name": "stdout",
     "output_type": "stream",
     "text": [
      "['.org', '.net', '.edu', '.ac', '.uk', '.com']\n"
     ]
    }
   ],
   "source": [
    "print(top_level_domains)"
   ]
  },
  {
   "cell_type": "markdown",
   "id": "904b2272-52c2-441a-8dca-2883c4ee3e3c",
   "metadata": {},
   "source": [
    "### Validate User"
   ]
  },
  {
   "cell_type": "code",
   "execution_count": 22,
   "id": "a0440300-2b00-4103-a2b0-5bf923083d86",
   "metadata": {},
   "outputs": [],
   "source": [
    "def validate_user(name, email, password):\n",
    "    \"\"\"\n",
    "    Validates the user registration details.\n",
    "\n",
    "    Args:\n",
    "        name (str): Provided name of the user.\n",
    "        email (str): Provided email of the user.\n",
    "        password (str): Provided password of the user in plain-text format.\n",
    "\n",
    "    Returns:\n",
    "        is_valid_user (bool): Returns True if user registration details are valid for registration, otherwise False.\n",
    "    \"\"\"\n",
    "    \n",
    "    is_valid_user = False\n",
    "\n",
    "    # Check if name is valid\n",
    "    is_valid_name = validate_name(name)\n",
    "    if is_valid_name:\n",
    "        # Check if email is valid\n",
    "        is_valid_email = validate_email(email)\n",
    "        if is_valid_email:\n",
    "            # Check if password is valid\n",
    "            is_valid_password = validate_password(password)\n",
    "            if is_valid_password:\n",
    "                is_valid_user = True\n",
    "            else:\n",
    "                raise ValueError(\"Password should include a capital letter, a number between 0-9 and be greater than 8 characters.\")\n",
    "        else:\n",
    "            raise ValueError(\"Email must have a username greater than 1 character, an '@' symbol, and an allowed domain.\")\n",
    "    else:\n",
    "        raise ValueError(\"Name must be greater than two characters and is of a string data type.\")\n",
    "\n",
    "    return is_valid_user"
   ]
  },
  {
   "cell_type": "markdown",
   "id": "40d3a612-3002-456f-b457-bd7ff7bfdbcc",
   "metadata": {},
   "source": [
    "### Register User"
   ]
  },
  {
   "cell_type": "code",
   "execution_count": 23,
   "id": "4ba8b9f3-c039-4f11-b008-a64ea390a14c",
   "metadata": {},
   "outputs": [],
   "source": [
    "def register_user(name, email, password):\n",
    "    \"\"\"\n",
    "    Registers the user onto the system.\n",
    "\n",
    "    Args:\n",
    "        name (str): Provided name of the user.\n",
    "        email (str): Provided email of the user.\n",
    "        password (str): Provided password of the user in plain-text format.\n",
    "\n",
    "    Returns:\n",
    "        user_details (dict): Details of user upon successful registration.\n",
    "    \"\"\"\n",
    "    # Check if the user is valid\n",
    "    is_valid_user = validate_user(name, email, password)\n",
    "    if is_valid_user:\n",
    "        user_details = {\n",
    "            \"name\": name,\n",
    "            \"email\": email,\n",
    "            \"password\": password\n",
    "        }\n",
    "        return user_details\n",
    "    else:\n",
    "        return False"
   ]
  },
  {
   "cell_type": "code",
   "execution_count": 24,
   "id": "64a9d46f-1191-4d88-adfa-b34d51f38d54",
   "metadata": {},
   "outputs": [
    {
     "name": "stdout",
     "output_type": "stream",
     "text": [
      "{'name': 'Sudeep', 'email': 'sudeep.poudel@yahoo.com', 'password': 'Hello@502.'}\n"
     ]
    }
   ],
   "source": [
    "print(register_user(\"Sudeep\", \"sudeep.poudel@yahoo.com\", \"Hello@502.\"))"
   ]
  }
 ],
 "metadata": {
  "kernelspec": {
   "display_name": "Python 3 (ipykernel)",
   "language": "python",
   "name": "python3"
  },
  "language_info": {
   "codemirror_mode": {
    "name": "ipython",
    "version": 3
   },
   "file_extension": ".py",
   "mimetype": "text/x-python",
   "name": "python",
   "nbconvert_exporter": "python",
   "pygments_lexer": "ipython3",
   "version": "3.12.7"
  }
 },
 "nbformat": 4,
 "nbformat_minor": 5
}
