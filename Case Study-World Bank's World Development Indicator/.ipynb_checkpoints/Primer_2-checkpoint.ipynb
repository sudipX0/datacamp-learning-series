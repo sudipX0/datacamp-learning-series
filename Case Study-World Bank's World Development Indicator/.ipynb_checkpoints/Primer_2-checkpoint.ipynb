{
 "cells": [
  {
   "cell_type": "markdown",
   "id": "91b11db4-531a-4ad2-844a-5d82e0db357e",
   "metadata": {},
   "source": [
    "### Processing data in chunks (1)"
   ]
  },
  {
   "cell_type": "code",
   "execution_count": null,
   "id": "005910b2-dbb7-485a-8ea1-6bb35f80b8c2",
   "metadata": {},
   "outputs": [],
   "source": []
  }
 ],
 "metadata": {
  "kernelspec": {
   "display_name": "Python 3 (ipykernel)",
   "language": "python",
   "name": "python3"
  },
  "language_info": {
   "codemirror_mode": {
    "name": "ipython",
    "version": 3
   },
   "file_extension": ".py",
   "mimetype": "text/x-python",
   "name": "python",
   "nbconvert_exporter": "python",
   "pygments_lexer": "ipython3",
   "version": "3.12.7"
  }
 },
 "nbformat": 4,
 "nbformat_minor": 5
}
