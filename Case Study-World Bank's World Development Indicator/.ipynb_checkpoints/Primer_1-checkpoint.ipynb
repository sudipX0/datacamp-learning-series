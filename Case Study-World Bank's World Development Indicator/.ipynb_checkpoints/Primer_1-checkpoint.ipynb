{
 "cells": [
  {
   "cell_type": "markdown",
   "id": "85a71b6b-3bf9-4f71-8546-477231234bda",
   "metadata": {},
   "source": [
    "### Zipping dictionaries"
   ]
  },
  {
   "cell_type": "code",
   "execution_count": 1,
   "id": "50573bd4-1d93-4cc1-b779-e6995bf6df3f",
   "metadata": {},
   "outputs": [],
   "source": [
    "feature_names = ['CountryName',\n",
    " 'CountryCode',\n",
    " 'IndicatorName',\n",
    " 'IndicatorCode',\n",
    " 'Year',\n",
    " 'Value']"
   ]
  },
  {
   "cell_type": "code",
   "execution_count": 2,
   "id": "94ffef5b-07df-4477-9709-eb5d518bc34a",
   "metadata": {},
   "outputs": [],
   "source": [
    "row_vals = ['Arab World',\n",
    " 'ARB',\n",
    " 'Adolescent fertility rate (births per 1,000 women ages 15-19)',\n",
    " 'SP.ADO.TFRT',\n",
    " '1960',\n",
    " '133.56090740552298']"
   ]
  },
  {
   "cell_type": "code",
   "execution_count": 3,
   "id": "1df19f04-45c0-4b33-9473-027714f7caa7",
   "metadata": {},
   "outputs": [
    {
     "name": "stdout",
     "output_type": "stream",
     "text": [
      "{'CountryName': 'Arab World', 'CountryCode': 'ARB', 'IndicatorName': 'Adolescent fertility rate (births per 1,000 women ages 15-19)', 'IndicatorCode': 'SP.ADO.TFRT', 'Year': '1960', 'Value': '133.56090740552298'}\n"
     ]
    }
   ],
   "source": [
    "# Zip lists: zipped_lists\n",
    "zipped_lists = zip(feature_names, row_vals)\n",
    "\n",
    "# Create a dictionary: rs_dict\n",
    "rs_dict = dict(zipped_lists)\n",
    "\n",
    "# Print the dictionary\n",
    "print(rs_dict)"
   ]
  },
  {
   "cell_type": "markdown",
   "id": "889d9fd3-5bad-4452-bb06-0f3a8cab700b",
   "metadata": {},
   "source": [
    "### Writing a function to help you"
   ]
  },
  {
   "cell_type": "code",
   "execution_count": 4,
   "id": "d84e6c3a-541c-4925-bc23-e23cc75c4e34",
   "metadata": {},
   "outputs": [
    {
     "name": "stdout",
     "output_type": "stream",
     "text": [
      "{'CountryName': 'Arab World', 'CountryCode': 'ARB', 'IndicatorName': 'Adolescent fertility rate (births per 1,000 women ages 15-19)', 'IndicatorCode': 'SP.ADO.TFRT', 'Year': '1960', 'Value': '133.56090740552298'}\n"
     ]
    }
   ],
   "source": [
    "# Define lists2dict()\n",
    "def lists2dict(list1, list2):\n",
    "    \"\"\"\n",
    "    Return a dictionary where list1 provides the keys and list2 provides the values.\n",
    "    \"\"\"\n",
    "    # Zip lists: zipped_lists\n",
    "    zipped_lists = zip(list1, list2)\n",
    "\n",
    "    # Create a dictionary: rs_dict\n",
    "    rs_dict = dict(zipped_lists)\n",
    "\n",
    "    # Return the dictionary\n",
    "    return rs_dict\n",
    "\n",
    "# Call lists2dict: rs_fxn\n",
    "rs_fxn = lists2dict(feature_names, row_vals)\n",
    "\n",
    "# Print rs_fxn\n",
    "print(rs_fxn)"
   ]
  },
  {
   "cell_type": "markdown",
   "id": "7baea471-79b2-4ae2-9831-43d8eb04f149",
   "metadata": {},
   "source": [
    "### Using a list comprehension"
   ]
  },
  {
   "cell_type": "code",
   "execution_count": 5,
   "id": "637f95ca-a293-462a-887e-2e8c0b85a6b6",
   "metadata": {},
   "outputs": [],
   "source": [
    "row_lists = [['Arab World',\n",
    "  'ARB',\n",
    "  'Adolescent fertility rate (births per 1,000 women ages 15-19)',\n",
    "  'SP.ADO.TFRT',\n",
    "  '1960',\n",
    "  '133.56090740552298'],\n",
    " ['Arab World',\n",
    "  'ARB',\n",
    "  'Age dependency ratio (% of working-age population)',\n",
    "  'SP.POP.DPND',\n",
    "  '1960',\n",
    "  '87.7976011532547'],\n",
    " ['Arab World',\n",
    "  'ARB',\n",
    "  'Age dependency ratio, old (% of working-age population)',\n",
    "  'SP.POP.DPND.OL',\n",
    "  '1960',\n",
    "  '6.634579191565161'],\n",
    " ['Arab World',\n",
    "  'ARB',\n",
    "  'Age dependency ratio, young (% of working-age population)',\n",
    "  'SP.POP.DPND.YG',\n",
    "  '1960',\n",
    "  '81.02332950839141'],\n",
    " ['Arab World',\n",
    "  'ARB',\n",
    "  'Arms exports (SIPRI trend indicator values)',\n",
    "  'MS.MIL.XPRT.KD',\n",
    "  '1960',\n",
    "  '3000000.0'],\n",
    " ['Arab World',\n",
    "  'ARB',\n",
    "  'Arms imports (SIPRI trend indicator values)',\n",
    "  'MS.MIL.MPRT.KD',\n",
    "  '1960',\n",
    "  '538000000.0'],\n",
    " ['Arab World',\n",
    "  'ARB',\n",
    "  'Birth rate, crude (per 1,000 people)',\n",
    "  'SP.DYN.CBRT.IN',\n",
    "  '1960',\n",
    "  '47.697888095096395'],\n",
    " ['Arab World',\n",
    "  'ARB',\n",
    "  'CO2 emissions (kt)',\n",
    "  'EN.ATM.CO2E.KT',\n",
    "  '1960',\n",
    "  '59563.9892169935'],\n",
    " ['Arab World',\n",
    "  'ARB',\n",
    "  'CO2 emissions (metric tons per capita)',\n",
    "  'EN.ATM.CO2E.PC',\n",
    "  '1960',\n",
    "  '0.6439635478877049'],\n",
    " ['Arab World',\n",
    "  'ARB',\n",
    "  'CO2 emissions from gaseous fuel consumption (% of total)',\n",
    "  'EN.ATM.CO2E.GF.ZS',\n",
    "  '1960',\n",
    "  '5.041291753975099'],\n",
    " ['Arab World',\n",
    "  'ARB',\n",
    "  'CO2 emissions from liquid fuel consumption (% of total)',\n",
    "  'EN.ATM.CO2E.LF.ZS',\n",
    "  '1960',\n",
    "  '84.8514729446567'],\n",
    " ['Arab World',\n",
    "  'ARB',\n",
    "  'CO2 emissions from liquid fuel consumption (kt)',\n",
    "  'EN.ATM.CO2E.LF.KT',\n",
    "  '1960',\n",
    "  '49541.707291032304'],\n",
    " ['Arab World',\n",
    "  'ARB',\n",
    "  'CO2 emissions from solid fuel consumption (% of total)',\n",
    "  'EN.ATM.CO2E.SF.ZS',\n",
    "  '1960',\n",
    "  '4.72698138789597'],\n",
    " ['Arab World',\n",
    "  'ARB',\n",
    "  'Death rate, crude (per 1,000 people)',\n",
    "  'SP.DYN.CDRT.IN',\n",
    "  '1960',\n",
    "  '19.7544519237187'],\n",
    " ['Arab World',\n",
    "  'ARB',\n",
    "  'Fertility rate, total (births per woman)',\n",
    "  'SP.DYN.TFRT.IN',\n",
    "  '1960',\n",
    "  '6.92402738655897'],\n",
    " ['Arab World',\n",
    "  'ARB',\n",
    "  'Fixed telephone subscriptions',\n",
    "  'IT.MLT.MAIN',\n",
    "  '1960',\n",
    "  '406833.0'],\n",
    " ['Arab World',\n",
    "  'ARB',\n",
    "  'Fixed telephone subscriptions (per 100 people)',\n",
    "  'IT.MLT.MAIN.P2',\n",
    "  '1960',\n",
    "  '0.6167005703199'],\n",
    " ['Arab World',\n",
    "  'ARB',\n",
    "  'Hospital beds (per 1,000 people)',\n",
    "  'SH.MED.BEDS.ZS',\n",
    "  '1960',\n",
    "  '1.9296220724398703'],\n",
    " ['Arab World',\n",
    "  'ARB',\n",
    "  'International migrant stock (% of population)',\n",
    "  'SM.POP.TOTL.ZS',\n",
    "  '1960',\n",
    "  '2.9906371279862403'],\n",
    " ['Arab World',\n",
    "  'ARB',\n",
    "  'International migrant stock, total',\n",
    "  'SM.POP.TOTL',\n",
    "  '1960',\n",
    "  '3324685.0']]"
   ]
  },
  {
   "cell_type": "code",
   "execution_count": 6,
   "id": "df789870-2855-4e31-9fbd-2f7ca0b9c00c",
   "metadata": {},
   "outputs": [
    {
     "name": "stdout",
     "output_type": "stream",
     "text": [
      "['Arab World', 'ARB', 'Adolescent fertility rate (births per 1,000 women ages 15-19)', 'SP.ADO.TFRT', '1960', '133.56090740552298']\n",
      "['Arab World', 'ARB', 'Age dependency ratio (% of working-age population)', 'SP.POP.DPND', '1960', '87.7976011532547']\n"
     ]
    }
   ],
   "source": [
    "# Print the first two lists in row_lists\n",
    "print(row_lists[0])\n",
    "print(row_lists[1])"
   ]
  },
  {
   "cell_type": "code",
   "execution_count": 11,
   "id": "1f6a23fd-1cd9-4938-b118-9b4bc28b74a0",
   "metadata": {},
   "outputs": [
    {
     "name": "stdout",
     "output_type": "stream",
     "text": [
      "{'CountryName': 'Arab World', 'CountryCode': 'ARB', 'IndicatorName': 'Adolescent fertility rate (births per 1,000 women ages 15-19)', 'IndicatorCode': 'SP.ADO.TFRT', 'Year': '1960', 'Value': '133.56090740552298'}\n",
      "{'CountryName': 'Arab World', 'CountryCode': 'ARB', 'IndicatorName': 'Age dependency ratio (% of working-age population)', 'IndicatorCode': 'SP.POP.DPND', 'Year': '1960', 'Value': '87.7976011532547'}\n"
     ]
    }
   ],
   "source": [
    "# Turn list of lists into list of dicts: list_of_dicts\n",
    "list_of_dicts = [lists2dict(feature_names, sublist) for sublist in row_lists]\n",
    "\n",
    "# Print the first tow dictionaries in list_of_dicts\n",
    "print(list_of_dicts[0])\n",
    "print(list_of_dicts[1])"
   ]
  },
  {
   "cell_type": "markdown",
   "id": "df19b352-5c25-4f1b-a035-072f1934bbf7",
   "metadata": {},
   "source": [
    "### Turning this all into a DataFrame"
   ]
  },
  {
   "cell_type": "code",
   "execution_count": 17,
   "id": "424029fa-5d55-4812-96fd-81104b79b488",
   "metadata": {},
   "outputs": [
    {
     "data": {
      "text/html": [
       "<div>\n",
       "<style scoped>\n",
       "    .dataframe tbody tr th:only-of-type {\n",
       "        vertical-align: middle;\n",
       "    }\n",
       "\n",
       "    .dataframe tbody tr th {\n",
       "        vertical-align: top;\n",
       "    }\n",
       "\n",
       "    .dataframe thead th {\n",
       "        text-align: right;\n",
       "    }\n",
       "</style>\n",
       "<table border=\"1\" class=\"dataframe\">\n",
       "  <thead>\n",
       "    <tr style=\"text-align: right;\">\n",
       "      <th></th>\n",
       "      <th>CountryName</th>\n",
       "      <th>CountryCode</th>\n",
       "      <th>IndicatorName</th>\n",
       "      <th>IndicatorCode</th>\n",
       "      <th>Year</th>\n",
       "      <th>Value</th>\n",
       "    </tr>\n",
       "  </thead>\n",
       "  <tbody>\n",
       "    <tr>\n",
       "      <th>0</th>\n",
       "      <td>Arab World</td>\n",
       "      <td>ARB</td>\n",
       "      <td>Adolescent fertility rate (births per 1,000 wo...</td>\n",
       "      <td>SP.ADO.TFRT</td>\n",
       "      <td>1960</td>\n",
       "      <td>133.56090740552298</td>\n",
       "    </tr>\n",
       "    <tr>\n",
       "      <th>1</th>\n",
       "      <td>Arab World</td>\n",
       "      <td>ARB</td>\n",
       "      <td>Age dependency ratio (% of working-age populat...</td>\n",
       "      <td>SP.POP.DPND</td>\n",
       "      <td>1960</td>\n",
       "      <td>87.7976011532547</td>\n",
       "    </tr>\n",
       "    <tr>\n",
       "      <th>2</th>\n",
       "      <td>Arab World</td>\n",
       "      <td>ARB</td>\n",
       "      <td>Age dependency ratio, old (% of working-age po...</td>\n",
       "      <td>SP.POP.DPND.OL</td>\n",
       "      <td>1960</td>\n",
       "      <td>6.634579191565161</td>\n",
       "    </tr>\n",
       "    <tr>\n",
       "      <th>3</th>\n",
       "      <td>Arab World</td>\n",
       "      <td>ARB</td>\n",
       "      <td>Age dependency ratio, young (% of working-age ...</td>\n",
       "      <td>SP.POP.DPND.YG</td>\n",
       "      <td>1960</td>\n",
       "      <td>81.02332950839141</td>\n",
       "    </tr>\n",
       "    <tr>\n",
       "      <th>4</th>\n",
       "      <td>Arab World</td>\n",
       "      <td>ARB</td>\n",
       "      <td>Arms exports (SIPRI trend indicator values)</td>\n",
       "      <td>MS.MIL.XPRT.KD</td>\n",
       "      <td>1960</td>\n",
       "      <td>3000000.0</td>\n",
       "    </tr>\n",
       "  </tbody>\n",
       "</table>\n",
       "</div>"
      ],
      "text/plain": [
       "  CountryName CountryCode                                      IndicatorName   IndicatorCode  Year               Value\n",
       "0  Arab World         ARB  Adolescent fertility rate (births per 1,000 wo...     SP.ADO.TFRT  1960  133.56090740552298\n",
       "1  Arab World         ARB  Age dependency ratio (% of working-age populat...     SP.POP.DPND  1960    87.7976011532547\n",
       "2  Arab World         ARB  Age dependency ratio, old (% of working-age po...  SP.POP.DPND.OL  1960   6.634579191565161\n",
       "3  Arab World         ARB  Age dependency ratio, young (% of working-age ...  SP.POP.DPND.YG  1960   81.02332950839141\n",
       "4  Arab World         ARB        Arms exports (SIPRI trend indicator values)  MS.MIL.XPRT.KD  1960           3000000.0"
      ]
     },
     "execution_count": 17,
     "metadata": {},
     "output_type": "execute_result"
    }
   ],
   "source": [
    "# Import the pandas package\n",
    "import pandas as pd\n",
    "\n",
    "# Turn list of lists into list of dicts: list_of_dicts\n",
    "list_of_dicts = [lists2dict(feature_names, sublist) for sublist in row_lists]\n",
    "\n",
    "# Turn list of dicts into a DataFrame: df\n",
    "df = pd.DataFrame(list_of_dicts)\n",
    "\n",
    "# Print the head of the DataFrame\n",
    "df.head()"
   ]
  },
  {
   "cell_type": "code",
   "execution_count": null,
   "id": "54a62828-7a76-47d8-bf8e-8db6c6fbb6a8",
   "metadata": {},
   "outputs": [],
   "source": []
  }
 ],
 "metadata": {
  "kernelspec": {
   "display_name": "Python 3 (ipykernel)",
   "language": "python",
   "name": "python3"
  },
  "language_info": {
   "codemirror_mode": {
    "name": "ipython",
    "version": 3
   },
   "file_extension": ".py",
   "mimetype": "text/x-python",
   "name": "python",
   "nbconvert_exporter": "python",
   "pygments_lexer": "ipython3",
   "version": "3.12.7"
  }
 },
 "nbformat": 4,
 "nbformat_minor": 5
}
