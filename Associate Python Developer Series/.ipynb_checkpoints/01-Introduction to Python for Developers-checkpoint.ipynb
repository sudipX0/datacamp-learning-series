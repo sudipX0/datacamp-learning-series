{
 "cells": [
  {
   "cell_type": "markdown",
   "id": "523b1e10-92b7-4635-acd6-44e9282a7e31",
   "metadata": {},
   "source": [
    "## Introduction to Python"
   ]
  },
  {
   "cell_type": "markdown",
   "id": "839d1b24-9865-4b49-a798-88e062d10c22",
   "metadata": {},
   "source": [
    "### Python as a calculator"
   ]
  },
  {
   "cell_type": "code",
   "execution_count": 1,
   "id": "b8c3314b-7c35-420c-8f97-3b1b7cbc8009",
   "metadata": {},
   "outputs": [
    {
     "name": "stdout",
     "output_type": "stream",
     "text": [
      "36\n",
      "87\n",
      "621\n",
      "8.25\n"
     ]
    }
   ],
   "source": [
    "# Add 19 and 17\n",
    "print(19 + 17)\n",
    "\n",
    "# Subtract 12 from 99\n",
    "print(99 - 12)\n",
    "\n",
    "# Multiply 27 by 23\n",
    "print(27 * 23)\n",
    "\n",
    "# Divide 99 by 12\n",
    "print(99 / 12)"
   ]
  },
  {
   "cell_type": "markdown",
   "id": "af2130d3-7280-4929-9b72-163e2211346c",
   "metadata": {},
   "source": [
    "### Advanced calculations"
   ]
  },
  {
   "cell_type": "code",
   "execution_count": 2,
   "id": "d0300e70-6aff-4b19-968c-253a34da47de",
   "metadata": {},
   "outputs": [
    {
     "name": "stdout",
     "output_type": "stream",
     "text": [
      "81\n",
      "13\n"
     ]
    }
   ],
   "source": [
    "# Calculate and print nine squared\n",
    "print(9 ** 2)\n",
    "\n",
    "# Find the remainder from 337 divided by 27\n",
    "print(337 % 27)"
   ]
  },
  {
   "cell_type": "markdown",
   "id": "fe256f1d-3667-47bf-bf58-9a15991ea0c8",
   "metadata": {},
   "source": [
    "### Checking data types"
   ]
  },
  {
   "cell_type": "code",
   "execution_count": 3,
   "id": "95b77291-287b-43b5-a734-2110d211f1dd",
   "metadata": {},
   "outputs": [],
   "source": [
    "current_quarter = 4\n",
    "revenue_on_target = True"
   ]
  },
  {
   "cell_type": "code",
   "execution_count": 4,
   "id": "0d0aca83-efc2-4749-a798-cbb5371989a7",
   "metadata": {},
   "outputs": [
    {
     "name": "stdout",
     "output_type": "stream",
     "text": [
      "<class 'int'>\n"
     ]
    }
   ],
   "source": [
    "# Print the data type of current_quarter\n",
    "print(type(current_quarter))"
   ]
  },
  {
   "cell_type": "code",
   "execution_count": 5,
   "id": "d251fd18-3b7a-4993-b6d8-54368db8959c",
   "metadata": {},
   "outputs": [
    {
     "name": "stdout",
     "output_type": "stream",
     "text": [
      "<class 'float'>\n"
     ]
    }
   ],
   "source": [
    "# Print the data type of 9.75\n",
    "print(type(9.75))"
   ]
  },
  {
   "cell_type": "code",
   "execution_count": 6,
   "id": "d18922f4-67e3-4f62-a91a-b9857c3c089d",
   "metadata": {},
   "outputs": [
    {
     "name": "stdout",
     "output_type": "stream",
     "text": [
      "<class 'bool'>\n"
     ]
    }
   ],
   "source": [
    "# Print the data type of revenue_on_target\n",
    "print(type(revenue_on_target))"
   ]
  },
  {
   "cell_type": "markdown",
   "id": "9fe8c681-0135-4f91-b712-19b67e119465",
   "metadata": {},
   "source": [
    "### Working with variables"
   ]
  },
  {
   "cell_type": "code",
   "execution_count": 7,
   "id": "b0c98d03-bbed-4033-a263-dcf9bd0e2e84",
   "metadata": {},
   "outputs": [
    {
     "name": "stdout",
     "output_type": "stream",
     "text": [
      "John Smith 47 The Shard, London, SE1 9SG\n"
     ]
    }
   ],
   "source": [
    "# Create a string variable called name\n",
    "name = \"John Smith\"\n",
    "\n",
    "# Create an integer variable called age\n",
    "age = 47\n",
    "\n",
    "# Create a string variable called address\n",
    "address = 'The Shard, London, SE1 9SG'\n",
    "\n",
    "# Print their information\n",
    "print(name, age, address)"
   ]
  },
  {
   "cell_type": "markdown",
   "id": "b3518843-1f36-42d1-9747-a485d5f5fa65",
   "metadata": {},
   "source": [
    "### Checking and updating conditions"
   ]
  },
  {
   "cell_type": "code",
   "execution_count": 8,
   "id": "a368062a-590a-4f90-9885-443ed07fdbcc",
   "metadata": {},
   "outputs": [
    {
     "name": "stdout",
     "output_type": "stream",
     "text": [
      "Buckingham Palace, London, SW1A 1AA True\n"
     ]
    }
   ],
   "source": [
    "age = 47\n",
    "\n",
    "# Create a boolean variable called is_adult\n",
    "is_adult = True\n",
    "\n",
    "# Update John's address\n",
    "address = 'Buckingham Palace, London, SW1A 1AA'\n",
    "\n",
    "# Print their information\n",
    "print(address, is_adult)"
   ]
  },
  {
   "cell_type": "markdown",
   "id": "996ee80c-8394-4dae-9482-d7bb89fcd38b",
   "metadata": {},
   "source": [
    "## Working with Data Types"
   ]
  },
  {
   "cell_type": "markdown",
   "id": "b4be7afb-ecc5-4df1-a591-9ce637e27e9e",
   "metadata": {},
   "source": [
    "### Multi-line strings"
   ]
  },
  {
   "cell_type": "code",
   "execution_count": 9,
   "id": "c6308455-18a7-4fec-bd0e-9cc96192e762",
   "metadata": {},
   "outputs": [
    {
     "name": "stdout",
     "output_type": "stream",
     "text": [
      "I really enjoy the courses,\n",
      "and they are easy to fit into my busy schedule. \n",
      "I wish I had started using your platform sooner.\n",
      "I'll be recommending you to my friends!!\n",
      "\n",
      "One year ago, I was unsure of how to make progress in my career. \n",
      "Now, I work as a Prompt Engineer, and I can't thank you enough! \n",
      "Keep up the great work.\n",
      "\n"
     ]
    }
   ],
   "source": [
    "# Create review_one\n",
    "review_one = \"\"\"I really enjoy the courses,\n",
    "and they are easy to fit into my busy schedule. \n",
    "I wish I had started using your platform sooner.\n",
    "I'll be recommending you to my friends!!\n",
    "\"\"\"\n",
    "\n",
    "# Create review_two\n",
    "review_two = \"\"\"One year ago, I was unsure of how to make progress in my career. \n",
    "Now, I work as a Prompt Engineer, and I can't thank you enough! \n",
    "Keep up the great work.\n",
    "\"\"\"\n",
    "\n",
    "# Print the two reviews individually\n",
    "print(review_one)\n",
    "print(review_two)"
   ]
  },
  {
   "cell_type": "markdown",
   "id": "bcaf92bb-12b0-4d75-a0b2-c35f2b14d6cb",
   "metadata": {},
   "source": [
    "### Modifying string variables"
   ]
  },
  {
   "cell_type": "code",
   "execution_count": 10,
   "id": "4d441a72-4fa0-4a98-8698-6e0e87b7bcbf",
   "metadata": {},
   "outputs": [
    {
     "name": "stdout",
     "output_type": "stream",
     "text": [
      "introduction_to_embeddings_with_the_openai_api\n"
     ]
    }
   ],
   "source": [
    "most_popular_course = \"Intro to Embeddings with the OpenAI API\"\n",
    "\n",
    "# Update the first word\n",
    "most_popular_course = most_popular_course.replace('Intro', 'Introduction')\n",
    "\n",
    "# Swap spaces for underscores\n",
    "most_popular_course = most_popular_course.replace(' ', '_')\n",
    "\n",
    "# Change to lowercase\n",
    "most_popular_course = most_popular_course.lower()\n",
    "\n",
    "print(most_popular_course)"
   ]
  },
  {
   "cell_type": "markdown",
   "id": "39494fd5-65ca-40c6-b89a-0e1e25f8220f",
   "metadata": {},
   "source": [
    "### Building a party playlist"
   ]
  },
  {
   "cell_type": "code",
   "execution_count": 11,
   "id": "0e5bb05c-4302-4a02-96e2-2e1ade4adb8f",
   "metadata": {},
   "outputs": [
    {
     "name": "stdout",
     "output_type": "stream",
     "text": [
      "[1, 'Blinding Lights', 2, 'One Dance', 3, 'Uptown Funk']\n"
     ]
    }
   ],
   "source": [
    "# Create the playlist variable\n",
    "playlist = [1, \"Blinding Lights\", 2, \"One Dance\", 3, \"Uptown Funk\"]\n",
    "\n",
    "# Print the list\n",
    "print(playlist)"
   ]
  },
  {
   "cell_type": "markdown",
   "id": "b14f5e98-82cd-443c-abbc-8cd2ce0206aa",
   "metadata": {},
   "source": [
    "### Subsetting lists"
   ]
  },
  {
   "cell_type": "code",
   "execution_count": 12,
   "id": "801e3dc4-d4d7-4e66-b355-e3a4775f265e",
   "metadata": {},
   "outputs": [
    {
     "name": "stdout",
     "output_type": "stream",
     "text": [
      "One Dance\n",
      "The Killers\n",
      "['Blinding Lights', 'One Dance', 'Uptown Funk', 'Closer', 'One Kiss', 'Mr. Brightside']\n"
     ]
    }
   ],
   "source": [
    "playlist = [1, 'Blinding Lights', 'The Weeknd', 2, 'One Dance', 'Drake', 3, 'Uptown Funk', 'Mark Ronson', 4, 'Closer', 'The Chainsmokers', 5, 'One Kiss', 'Calvin Harris', 6, 'Mr. Brightside', 'The Killers']\n",
    "\n",
    "# Find the second song\n",
    "print(playlist[4])\n",
    "\n",
    "# Get the last song's artist\n",
    "print(playlist[-1])\n",
    "\n",
    "# Print all songs in the playlist\n",
    "print(playlist[1::3])"
   ]
  },
  {
   "cell_type": "markdown",
   "id": "77bd3aa9-85c1-4ebd-a42d-58439dc9cefd",
   "metadata": {},
   "source": [
    "### Building a playlist dictionary"
   ]
  },
  {
   "cell_type": "code",
   "execution_count": 13,
   "id": "bc1d2811-0150-474f-9b55-62ae3a117049",
   "metadata": {},
   "outputs": [
    {
     "name": "stdout",
     "output_type": "stream",
     "text": [
      "{'The Weeknd': 'Blinding Lights', 'Drake': 'One Dance', 'Mark Ronson': 'Uptown Funk', 'The Chainsmokers': 'Closer', 'Calvin Harris': 'One Kiss', 'The Killers': 'Mr. Brightside', 'Oasis': 'Wonderwall', 'Rihanna': 'We Found Love', 'Coldplay': 'Paradise'}\n"
     ]
    }
   ],
   "source": [
    "# Create the playlist dictionary\n",
    "playlist = {\n",
    "    'The Weeknd': 'Blinding Lights',\n",
    "    'Drake': 'One Dance',\n",
    "    'Mark Ronson': 'Uptown Funk',\n",
    "    'The Chainsmokers': 'Closer',\n",
    "    'Calvin Harris': 'One Kiss',\n",
    "    'The Killers': 'Mr. Brightside',\n",
    "    'Oasis': 'Wonderwall',\n",
    "    'Rihanna': 'We Found Love',\n",
    "    'Coldplay': 'Paradise'\n",
    "}\n",
    "\n",
    "# Print the playlist\n",
    "print(playlist)"
   ]
  },
  {
   "cell_type": "markdown",
   "id": "928efa36-b4bf-4994-8416-d77dfc9cde9b",
   "metadata": {},
   "source": [
    "### Working with dictionaries"
   ]
  },
  {
   "cell_type": "code",
   "execution_count": 14,
   "id": "0ce7c87f-8bb9-4a66-98e5-877747d7df17",
   "metadata": {},
   "outputs": [
    {
     "name": "stdout",
     "output_type": "stream",
     "text": [
      "Paradise\n",
      "dict_values(['Blinding Lights', 'One Dance', 'Uptown Funk', 'Closer', 'One Kiss', 'Mr. Brightside', 'Wonderwall', 'We Found Love', 'Paradise', 'Yeah!'])\n"
     ]
    }
   ],
   "source": [
    "# Print the song by Coldplay\n",
    "print(playlist['Coldplay'])\n",
    "\n",
    "# Add a new song\n",
    "playlist['Usher'] = 'Yeah!'\n",
    "\n",
    "# Print the songs in the playlist\n",
    "print(playlist.values())"
   ]
  },
  {
   "cell_type": "markdown",
   "id": "1f2226e4-897a-4405-b9e3-7b89af5a924a",
   "metadata": {},
   "source": [
    "### Last quarter's revenue"
   ]
  },
  {
   "cell_type": "code",
   "execution_count": 15,
   "id": "4c0a5f8d-3fd1-45a0-8694-482f102ded8f",
   "metadata": {},
   "outputs": [
    {
     "name": "stdout",
     "output_type": "stream",
     "text": [
      "(325780, 1041, 4271599)\n"
     ]
    }
   ],
   "source": [
    "# Create a tuple\n",
    "q3_financials = (325780, 1041, 4271599)\n",
    "\n",
    "# Print the tuple\n",
    "print(q3_financials)"
   ]
  },
  {
   "cell_type": "markdown",
   "id": "a8f74452-c5c3-4700-a60a-dcccd4e64ac0",
   "metadata": {},
   "source": [
    "### DJ Sets"
   ]
  },
  {
   "cell_type": "code",
   "execution_count": 16,
   "id": "6faac5f9-cf62-4339-a57b-d8d4f05ae48f",
   "metadata": {},
   "outputs": [
    {
     "name": "stdout",
     "output_type": "stream",
     "text": [
      "{'Arctic Monkeys', 'Stereophonics', 'Kings of Leon'} {'50 Cent', 'JAY-Z', 'Drake'}\n"
     ]
    }
   ],
   "source": [
    "hip_hop = [\"Drake\", \"JAY-Z\", \"50 Cent\", \"Drake\"]\n",
    "\n",
    "# Create a set\n",
    "indie_set = {\"Kings of Leon\", \"Arctic Monkeys\", \"Stereophonics\"}\n",
    "\n",
    "# Convert hip_hop to a set\n",
    "hip_hop_set = set(hip_hop)\n",
    "\n",
    "# Print the indie and hip_hop sets\n",
    "print(indie_set, hip_hop_set)"
   ]
  },
  {
   "cell_type": "markdown",
   "id": "5a53342d-872c-4323-a399-b157d76c0bc7",
   "metadata": {},
   "source": [
    "## Conditional statements and operators"
   ]
  },
  {
   "cell_type": "markdown",
   "id": "b59f7d68-a693-41dd-bd70-c98475d9003d",
   "metadata": {},
   "source": [
    "### Checking inflation"
   ]
  },
  {
   "cell_type": "code",
   "execution_count": 17,
   "id": "fcf7de85-c0a7-4c32-8e0d-45d740a5338f",
   "metadata": {},
   "outputs": [
    {
     "name": "stdout",
     "output_type": "stream",
     "text": [
      "Inflation remained stable\n"
     ]
    }
   ],
   "source": [
    "inflation_august = 6.7\n",
    "inflation_september = 6.7\n",
    "\n",
    "# Check if September inflation is less than August inflation\n",
    "if inflation_september < inflation_august:\n",
    "    print(\"Inflation decreased\")\n",
    "\n",
    "# Check if September inflation is more than August inflation\n",
    "elif inflation_september > inflation_august:\n",
    "    print(\"Inflation increased\")\n",
    "\n",
    "# Confirm that they are equal\n",
    "else:\n",
    "    print(\"Inflation remained stable\")"
   ]
  },
  {
   "cell_type": "markdown",
   "id": "879c6886-914d-4239-a1f1-04fd94485eab",
   "metadata": {},
   "source": [
    "### On the rental market"
   ]
  },
  {
   "cell_type": "code",
   "execution_count": 18,
   "id": "2b3c9ccd-acf7-45f8-82d4-f5735e4fda84",
   "metadata": {},
   "outputs": [
    {
     "name": "stdout",
     "output_type": "stream",
     "text": [
      "This looks promising!\n"
     ]
    }
   ],
   "source": [
    "min_num_beds = 2\n",
    "min_sq_foot = 750\n",
    "max_rent = 1900\n",
    "\n",
    "num_beds = 3\n",
    "sq_foot = 800\n",
    "rent = 1750\n",
    "\n",
    "# Check the number of beds\n",
    "if num_beds < min_num_beds:\n",
    "    print(\"Insufficient bedrooms\")\n",
    "\n",
    "# Check square feet\n",
    "elif sq_foot <= min_sq_foot:\n",
    "    print(\"Too small\")\n",
    "\n",
    "# Check rent\n",
    "elif rent > max_rent:\n",
    "    print(\"Too expensive\")\n",
    "\n",
    "# If all conditions met\n",
    "else:\n",
    "    print(\"This looks promising!\")"
   ]
  },
  {
   "cell_type": "markdown",
   "id": "bdded005-5b0a-45dd-af57-b3dfe1b0a525",
   "metadata": {},
   "source": [
    "### Looping through a list"
   ]
  },
  {
   "cell_type": "code",
   "execution_count": 19,
   "id": "4a7ca16e-a75e-4665-97ee-63f9870c0832",
   "metadata": {},
   "outputs": [
    {
     "name": "stdout",
     "output_type": "stream",
     "text": [
      "T42YG4KTK\n",
      "VTQ39IDQ0\n",
      "CRL11YUWX\n",
      "K6Y5URXLR\n",
      "V4XCBER7V\n",
      "IOGQWC61K\n"
     ]
    }
   ],
   "source": [
    "user_ids = [\"T42YG4KTK\", \"VTQ39IDQ0\", \"CRL11YUWX\", \n",
    "            \"K6Y5URXLR\", \"V4XCBER7V\", \"IOGQWC61K\"]\n",
    "\n",
    "# Loop through user_ids\n",
    "for user_id in user_ids:\n",
    "    # Print the user_id\n",
    "    print(user_id)"
   ]
  },
  {
   "cell_type": "markdown",
   "id": "e35659ee-b233-4166-9db4-7a8a693207f4",
   "metadata": {},
   "source": [
    "### Updating a variable with for loops"
   ]
  },
  {
   "cell_type": "code",
   "execution_count": 20,
   "id": "69cef646-26b3-4267-8443-63eb1a94df12",
   "metadata": {},
   "outputs": [
    {
     "name": "stdout",
     "output_type": "stream",
     "text": [
      "Sold out: 30 tickets sold!\n"
     ]
    }
   ],
   "source": [
    "# Create the tickets_sold variable\n",
    "tickets_sold = 0\n",
    "\n",
    "# Create the max_capacity variable\n",
    "max_capacity = 30\n",
    "\n",
    "# Loop through a range up to and including max_capacity's value\n",
    "for i in range(1, max_capacity + 1):\n",
    "    # Add one to tickets_sold in each iteration\n",
    "    tickets_sold += 1\n",
    "\n",
    "print(\"Sold out:\", tickets_sold, \"tickets sold!\")"
   ]
  },
  {
   "cell_type": "markdown",
   "id": "996e7974-0ce5-443c-9d4b-62dc464625e8",
   "metadata": {},
   "source": [
    "### Conditional looping with a dictionary"
   ]
  },
  {
   "cell_type": "code",
   "execution_count": 21,
   "id": "8e4ea9a1-8594-4ead-818e-4e37423bd6dd",
   "metadata": {},
   "outputs": [
    {
     "name": "stdout",
     "output_type": "stream",
     "text": [
      "LLM Concepts is an AI course\n",
      "Introduction to Data Pipelines is a Data Engineering course\n",
      "AI Ethics is an AI course\n",
      "Introduction to dbt is a Data Engineering course\n",
      "Writing Efficient Python Code is a Programming course\n",
      "Introduction to Docker is a Programming course\n"
     ]
    }
   ],
   "source": [
    "courses = {\"LLM Concepts\": \"AI\", \n",
    "           \"Introduction to Data Pipelines\": \"Data Engineering\", \n",
    "           \"AI Ethics\": \"AI\",\n",
    "           \"Introduction to dbt\": \"Data Engineering\", \n",
    "           \"Writing Efficient Python Code\": \"Programming\",\n",
    "           \"Introduction to Docker\": \"Programming\"}\n",
    "\n",
    "# Loop through the dictionary's keys and values\n",
    "for key, value in courses.items():\n",
    "    # Check if the value is \"AI\"\n",
    "    if value == \"AI\":\n",
    "        print(key, \"is an AI course\")\n",
    "    # Check if the value is \"Programming\"\n",
    "    elif value == \"Programming\":\n",
    "        print(key, \"is a Programming course\")\n",
    "    # Otherwise, print that it is a \"Data Engineering\" course\n",
    "    else:\n",
    "        print(key, \"is a Data Engineering course\")"
   ]
  },
  {
   "cell_type": "markdown",
   "id": "9821bee5-9595-4abe-af51-9e682c1dbd13",
   "metadata": {},
   "source": [
    "### Converting to a while loop"
   ]
  },
  {
   "cell_type": "code",
   "execution_count": 22,
   "id": "fc4cefe9-475c-483c-ab5c-80d4c848f888",
   "metadata": {},
   "outputs": [
    {
     "name": "stdout",
     "output_type": "stream",
     "text": [
      "Sold out: 10 tickets sold!\n"
     ]
    }
   ],
   "source": [
    "tickets_sold = 0\n",
    "max_capacity = 10\n",
    "\n",
    "# Create a while loop\n",
    "while tickets_sold < max_capacity:\n",
    "    # Add one to tickets_sold in each iteration\n",
    "    tickets_sold += 1\n",
    "\n",
    "# Print the number of tickets sold\n",
    "print(\"Sold out:\", tickets_sold, \"tickets sold!\")"
   ]
  },
  {
   "cell_type": "markdown",
   "id": "01995bf7-284f-4713-9b51-c32bfb42dd2b",
   "metadata": {},
   "source": [
    "### Conditional while loops"
   ]
  },
  {
   "cell_type": "code",
   "execution_count": 23,
   "id": "fb7e94bb-7cdb-4562-b0f6-f81236cacbcb",
   "metadata": {},
   "outputs": [
    {
     "name": "stdout",
     "output_type": "stream",
     "text": [
      "Purchase before the 25th for early access\n",
      "Purchase before the 25th for early access\n",
      "Coming soon!\n",
      "Available now!\n",
      "Available now!\n"
     ]
    }
   ],
   "source": [
    "release_date = 26\n",
    "current_date = 22\n",
    "\n",
    "# Create a conditional loop while current_date is less than or equal to the release_date\n",
    "while current_date <= release_date:\n",
    "    # Increment current_date by one\n",
    "    current_date += 1\n",
    "\n",
    "    # Promote purchases\n",
    "    if current_date <= 24:\n",
    "        print(\"Purchase before the 25th for early access\")\n",
    "\n",
    "    # Check if the date is equal to the 25th\n",
    "    elif current_date == 25:\n",
    "        print(\"Coming soon!\")\n",
    "    else:\n",
    "        print(\"Available now!\")"
   ]
  },
  {
   "cell_type": "markdown",
   "id": "fc867327-28e2-4bd4-b432-0f2d49e38bd4",
   "metadata": {},
   "source": [
    "### Appending to a list"
   ]
  },
  {
   "cell_type": "code",
   "execution_count": 24,
   "id": "aed97471-92a1-4baf-99e9-86c27f6ec6f4",
   "metadata": {},
   "outputs": [
    {
     "name": "stdout",
     "output_type": "stream",
     "text": [
      "['Nicholas Sparks', 'Judith Krantz', 'Harold Robbins', 'J. K. Rowling', 'Sidney Sheldon']\n"
     ]
    }
   ],
   "source": [
    "authors = {'Penny Jordan': 200,\n",
    " 'Nicholas Sparks': 22,\n",
    " 'Ken Follett': 30,\n",
    " 'Erskine Caldwell': 25,\n",
    " 'Wilbur Smith': 32,\n",
    " 'Judith Krantz': 12,\n",
    " 'Harold Robbins': 23,\n",
    " 'J. K. Rowling': 22,\n",
    " 'Debbie Macomber': 199,\n",
    " 'Eiichiro Oda': 106,\n",
    " 'Danielle Steel': 179,\n",
    " 'Barbara Cartland': 723,\n",
    " 'Georges Simenon': 570,\n",
    " 'Corín Tellado': 4000,\n",
    " 'Clive Cussler': 37,\n",
    " 'Sidney Sheldon': 21,\n",
    " 'Dean Koontz': 91,\n",
    " 'Janet Dailey': 93,\n",
    " 'Jirō Akagawa': 500,\n",
    " 'Stephen King': 77}\n",
    "\n",
    "# Create an empty list\n",
    "authors_below_twenty_five = []\n",
    "\n",
    "# Loop through the authros dictionary\n",
    "for key, value in authors.items():\n",
    "    # Check for values less than 25\n",
    "    if value < 25:\n",
    "        # Append the author to the list\n",
    "        authors_below_twenty_five.append(key)\n",
    "\n",
    "print(authors_below_twenty_five)"
   ]
  },
  {
   "cell_type": "markdown",
   "id": "2f3ddfc3-bd96-4bc6-a561-81f480b45a41",
   "metadata": {},
   "source": [
    "### Book genre popularity"
   ]
  },
  {
   "cell_type": "code",
   "execution_count": 25,
   "id": "bc673594-bf6d-472a-9cf2-01dd0ea23ca8",
   "metadata": {},
   "outputs": [
    {
     "name": "stdout",
     "output_type": "stream",
     "text": [
      "Least popular genre: Literature\n",
      "Average sales: 80000000\n",
      "Most popular genre: Manga\n",
      "Average sales: 5166000000\n"
     ]
    }
   ],
   "source": [
    "genre_sales = {'Adventure': 367500000,\n",
    " 'Horror': 312500000,\n",
    " 'Literature': 80000000,\n",
    " 'Manga': 5166000000,\n",
    " 'Mystery': 300000000,\n",
    " 'Romance': 252500000,\n",
    " 'Thriller': 320000000}\n",
    "\n",
    "largest_average_sales = 5166000000\n",
    "smallest_sales_revenue = 80000000\n",
    "\n",
    "for genre, average_sale in genre_sales.items():\n",
    "    # Filter for maximum sales value\n",
    "    if average_sale == largest_average_sales:\n",
    "        # Print the genre\n",
    "        print(\"Most popular genre:\", genre)\n",
    "        print(\"Average sales:\", average_sale)\n",
    "\n",
    "    # Filter for the minimum sales value\n",
    "    elif average_sale == smallest_sales_revenue:\n",
    "        # Print the genre\n",
    "        print(\"Least popular genre:\", genre)\n",
    "        print(\"Average sales:\", average_sale)"
   ]
  },
  {
   "cell_type": "markdown",
   "id": "2a5bd6dd-4600-4cee-a54f-da44373cb168",
   "metadata": {},
   "source": [
    "### Working with keywords"
   ]
  },
  {
   "cell_type": "code",
   "execution_count": 26,
   "id": "8b406353-be5a-408a-94b7-b21183852db2",
   "metadata": {},
   "outputs": [
    {
     "name": "stdout",
     "output_type": "stream",
     "text": [
      "Horror 312500000\n",
      "Mystery 300000000\n",
      "Thriller 320000000\n"
     ]
    }
   ],
   "source": [
    "# Loop through the dictionary\n",
    "for genre, sale in genre_sales.items():\n",
    "    # Check if genre is Horror or Mystery\n",
    "    if genre == \"Horror\" or genre == \"Mystery\":\n",
    "        print(genre, sale)\n",
    "\n",
    "    # Check if genre is Thriller and sale is at least 3 million\n",
    "    elif genre == \"Thriller\" and sale >= 30000000:\n",
    "        print(genre, sale)"
   ]
  },
  {
   "cell_type": "code",
   "execution_count": null,
   "id": "70ed475a-593a-4351-b6d3-40608b80ed0b",
   "metadata": {},
   "outputs": [],
   "source": []
  }
 ],
 "metadata": {
  "kernelspec": {
   "display_name": "Python 3 (ipykernel)",
   "language": "python",
   "name": "python3"
  },
  "language_info": {
   "codemirror_mode": {
    "name": "ipython",
    "version": 3
   },
   "file_extension": ".py",
   "mimetype": "text/x-python",
   "name": "python",
   "nbconvert_exporter": "python",
   "pygments_lexer": "ipython3",
   "version": "3.12.7"
  }
 },
 "nbformat": 4,
 "nbformat_minor": 5
}
