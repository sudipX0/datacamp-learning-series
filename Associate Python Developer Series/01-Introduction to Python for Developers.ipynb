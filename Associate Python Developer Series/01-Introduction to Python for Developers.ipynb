{
 "cells": [
  {
   "cell_type": "markdown",
   "id": "523b1e10-92b7-4635-acd6-44e9282a7e31",
   "metadata": {},
   "source": [
    "## Introduction to Python"
   ]
  },
  {
   "cell_type": "markdown",
   "id": "839d1b24-9865-4b49-a798-88e062d10c22",
   "metadata": {},
   "source": [
    "### Python as a calculator"
   ]
  },
  {
   "cell_type": "code",
   "execution_count": 9,
   "id": "b8c3314b-7c35-420c-8f97-3b1b7cbc8009",
   "metadata": {},
   "outputs": [
    {
     "name": "stdout",
     "output_type": "stream",
     "text": [
      "36\n",
      "87\n",
      "621\n",
      "8.25\n"
     ]
    }
   ],
   "source": [
    "# Add 19 and 17\n",
    "print(19 + 17)\n",
    "\n",
    "# Subtract 12 from 99\n",
    "print(99 - 12)\n",
    "\n",
    "# Multiply 27 by 23\n",
    "print(27 * 23)\n",
    "\n",
    "# Divide 99 by 12\n",
    "print(99 / 12)"
   ]
  },
  {
   "cell_type": "markdown",
   "id": "af2130d3-7280-4929-9b72-163e2211346c",
   "metadata": {},
   "source": [
    "### Advanced calculations"
   ]
  },
  {
   "cell_type": "code",
   "execution_count": 10,
   "id": "d0300e70-6aff-4b19-968c-253a34da47de",
   "metadata": {},
   "outputs": [
    {
     "name": "stdout",
     "output_type": "stream",
     "text": [
      "81\n",
      "13\n"
     ]
    }
   ],
   "source": [
    "# Calculate and print nine squared\n",
    "print(9 ** 2)\n",
    "\n",
    "# Find the remainder from 337 divided by 27\n",
    "print(337 % 27)"
   ]
  },
  {
   "cell_type": "markdown",
   "id": "fe256f1d-3667-47bf-bf58-9a15991ea0c8",
   "metadata": {},
   "source": [
    "### Checking data types"
   ]
  },
  {
   "cell_type": "code",
   "execution_count": 11,
   "id": "95b77291-287b-43b5-a734-2110d211f1dd",
   "metadata": {},
   "outputs": [],
   "source": [
    "current_quarter = 4\n",
    "revenue_on_target = True"
   ]
  },
  {
   "cell_type": "code",
   "execution_count": 12,
   "id": "0d0aca83-efc2-4749-a798-cbb5371989a7",
   "metadata": {},
   "outputs": [
    {
     "name": "stdout",
     "output_type": "stream",
     "text": [
      "<class 'int'>\n"
     ]
    }
   ],
   "source": [
    "# Print the data type of current_quarter\n",
    "print(type(current_quarter))"
   ]
  },
  {
   "cell_type": "code",
   "execution_count": 13,
   "id": "d251fd18-3b7a-4993-b6d8-54368db8959c",
   "metadata": {},
   "outputs": [
    {
     "name": "stdout",
     "output_type": "stream",
     "text": [
      "<class 'float'>\n"
     ]
    }
   ],
   "source": [
    "# Print the data type of 9.75\n",
    "print(type(9.75))"
   ]
  },
  {
   "cell_type": "code",
   "execution_count": 14,
   "id": "d18922f4-67e3-4f62-a91a-b9857c3c089d",
   "metadata": {},
   "outputs": [
    {
     "name": "stdout",
     "output_type": "stream",
     "text": [
      "<class 'bool'>\n"
     ]
    }
   ],
   "source": [
    "# Print the data type of revenue_on_target\n",
    "print(type(revenue_on_target))"
   ]
  },
  {
   "cell_type": "markdown",
   "id": "9fe8c681-0135-4f91-b712-19b67e119465",
   "metadata": {},
   "source": [
    "### Working with variables"
   ]
  },
  {
   "cell_type": "code",
   "execution_count": 15,
   "id": "b0c98d03-bbed-4033-a263-dcf9bd0e2e84",
   "metadata": {},
   "outputs": [
    {
     "name": "stdout",
     "output_type": "stream",
     "text": [
      "John Smith 47 The Shard, London, SE1 9SG\n"
     ]
    }
   ],
   "source": [
    "# Create a string variable called name\n",
    "name = \"John Smith\"\n",
    "\n",
    "# Create an integer variable called age\n",
    "age = 47\n",
    "\n",
    "# Create a string variable called address\n",
    "address = 'The Shard, London, SE1 9SG'\n",
    "\n",
    "# Print their information\n",
    "print(name, age, address)"
   ]
  },
  {
   "cell_type": "markdown",
   "id": "b3518843-1f36-42d1-9747-a485d5f5fa65",
   "metadata": {},
   "source": [
    "### Checking and updating conditions"
   ]
  },
  {
   "cell_type": "code",
   "execution_count": 16,
   "id": "a368062a-590a-4f90-9885-443ed07fdbcc",
   "metadata": {},
   "outputs": [
    {
     "name": "stdout",
     "output_type": "stream",
     "text": [
      "Buckingham Palace, London, SW1A 1AA True\n"
     ]
    }
   ],
   "source": [
    "age = 47\n",
    "\n",
    "# Create a boolean variable called is_adult\n",
    "is_adult = True\n",
    "\n",
    "# Update John's address\n",
    "address = 'Buckingham Palace, London, SW1A 1AA'\n",
    "\n",
    "# Print their information\n",
    "print(address, is_adult)"
   ]
  },
  {
   "cell_type": "markdown",
   "id": "996ee80c-8394-4dae-9482-d7bb89fcd38b",
   "metadata": {},
   "source": [
    "## Working with Data Types"
   ]
  },
  {
   "cell_type": "markdown",
   "id": "b4be7afb-ecc5-4df1-a591-9ce637e27e9e",
   "metadata": {},
   "source": [
    "### Multi-line strings"
   ]
  },
  {
   "cell_type": "code",
   "execution_count": 18,
   "id": "c6308455-18a7-4fec-bd0e-9cc96192e762",
   "metadata": {},
   "outputs": [
    {
     "name": "stdout",
     "output_type": "stream",
     "text": [
      "I really enjoy the courses,\n",
      "and they are easy to fit into my busy schedule. \n",
      "I wish I had started using your platform sooner.\n",
      "I'll be recommending you to my friends!!\n",
      "\n",
      "One year ago, I was unsure of how to make progress in my career. \n",
      "Now, I work as a Prompt Engineer, and I can't thank you enough! \n",
      "Keep up the great work.\n",
      "\n"
     ]
    }
   ],
   "source": [
    "# Create review_one\n",
    "review_one = \"\"\"I really enjoy the courses,\n",
    "and they are easy to fit into my busy schedule. \n",
    "I wish I had started using your platform sooner.\n",
    "I'll be recommending you to my friends!!\n",
    "\"\"\"\n",
    "\n",
    "# Create review_two\n",
    "review_two = \"\"\"One year ago, I was unsure of how to make progress in my career. \n",
    "Now, I work as a Prompt Engineer, and I can't thank you enough! \n",
    "Keep up the great work.\n",
    "\"\"\"\n",
    "\n",
    "# Print the two reviews individually\n",
    "print(review_one)\n",
    "print(review_two)"
   ]
  },
  {
   "cell_type": "markdown",
   "id": "bcaf92bb-12b0-4d75-a0b2-c35f2b14d6cb",
   "metadata": {},
   "source": [
    "### Modifying string variables"
   ]
  },
  {
   "cell_type": "code",
   "execution_count": 21,
   "id": "4d441a72-4fa0-4a98-8698-6e0e87b7bcbf",
   "metadata": {},
   "outputs": [
    {
     "name": "stdout",
     "output_type": "stream",
     "text": [
      "introduction_to_embeddings_with_the_openai_api\n"
     ]
    }
   ],
   "source": [
    "most_popular_course = \"Intro to Embeddings with the OpenAI API\"\n",
    "\n",
    "# Update the first word\n",
    "most_popular_course = most_popular_course.replace('Intro', 'Introduction')\n",
    "\n",
    "# Swap spaces for underscores\n",
    "most_popular_course = most_popular_course.replace(' ', '_')\n",
    "\n",
    "# Change to lowercase\n",
    "most_popular_course = most_popular_course.lower()\n",
    "\n",
    "print(most_popular_course)"
   ]
  },
  {
   "cell_type": "markdown",
   "id": "39494fd5-65ca-40c6-b89a-0e1e25f8220f",
   "metadata": {},
   "source": [
    "### Building a party playlist"
   ]
  },
  {
   "cell_type": "code",
   "execution_count": 22,
   "id": "0e5bb05c-4302-4a02-96e2-2e1ade4adb8f",
   "metadata": {},
   "outputs": [
    {
     "name": "stdout",
     "output_type": "stream",
     "text": [
      "[1, 'Blinding Lights', 2, 'One Dance', 3, 'Uptown Funk']\n"
     ]
    }
   ],
   "source": [
    "# Create the playlist variable\n",
    "playlist = [1, \"Blinding Lights\", 2, \"One Dance\", 3, \"Uptown Funk\"]\n",
    "\n",
    "# Print the list\n",
    "print(playlist)"
   ]
  },
  {
   "cell_type": "markdown",
   "id": "b14f5e98-82cd-443c-abbc-8cd2ce0206aa",
   "metadata": {},
   "source": [
    "### Subsetting lists"
   ]
  },
  {
   "cell_type": "code",
   "execution_count": 30,
   "id": "801e3dc4-d4d7-4e66-b355-e3a4775f265e",
   "metadata": {},
   "outputs": [
    {
     "name": "stdout",
     "output_type": "stream",
     "text": [
      "One Dance\n",
      "The Killers\n",
      "['Blinding Lights', 'One Dance', 'Uptown Funk', 'Closer', 'One Kiss', 'Mr. Brightside']\n"
     ]
    }
   ],
   "source": [
    "playlist = [1, 'Blinding Lights', 'The Weeknd', 2, 'One Dance', 'Drake', 3, 'Uptown Funk', 'Mark Ronson', 4, 'Closer', 'The Chainsmokers', 5, 'One Kiss', 'Calvin Harris', 6, 'Mr. Brightside', 'The Killers']\n",
    "\n",
    "# Find the second song\n",
    "print(playlist[4])\n",
    "\n",
    "# Get the last song's artist\n",
    "print(playlist[-1])\n",
    "\n",
    "# Print all songs in the playlist\n",
    "print(playlist[1::3])"
   ]
  },
  {
   "cell_type": "markdown",
   "id": "77bd3aa9-85c1-4ebd-a42d-58439dc9cefd",
   "metadata": {},
   "source": [
    "### Building a playlist dictionary"
   ]
  },
  {
   "cell_type": "code",
   "execution_count": 35,
   "id": "bc1d2811-0150-474f-9b55-62ae3a117049",
   "metadata": {},
   "outputs": [
    {
     "name": "stdout",
     "output_type": "stream",
     "text": [
      "{'The Weeknd': 'Blinding Lights', 'Drake': 'One Dance', 'Mark Ronson': 'Uptown Funk', 'The Chainsmokers': 'Closer', 'Calvin Harris': 'One Kiss', 'The Killers': 'Mr. Brightside', 'Oasis': 'Wonderwall', 'Rihanna': 'We Found Love', 'Coldplay': 'Paradise'}\n"
     ]
    }
   ],
   "source": [
    "# Create the playlist dictionary\n",
    "playlist = {\n",
    "    'The Weeknd': 'Blinding Lights',\n",
    "    'Drake': 'One Dance',\n",
    "    'Mark Ronson': 'Uptown Funk',\n",
    "    'The Chainsmokers': 'Closer',\n",
    "    'Calvin Harris': 'One Kiss',\n",
    "    'The Killers': 'Mr. Brightside',\n",
    "    'Oasis': 'Wonderwall',\n",
    "    'Rihanna': 'We Found Love',\n",
    "    'Coldplay': 'Paradise'\n",
    "}\n",
    "\n",
    "# Print the playlist\n",
    "print(playlist)"
   ]
  },
  {
   "cell_type": "markdown",
   "id": "928efa36-b4bf-4994-8416-d77dfc9cde9b",
   "metadata": {},
   "source": [
    "### Working with dictionaries"
   ]
  },
  {
   "cell_type": "code",
   "execution_count": 38,
   "id": "0ce7c87f-8bb9-4a66-98e5-877747d7df17",
   "metadata": {},
   "outputs": [
    {
     "name": "stdout",
     "output_type": "stream",
     "text": [
      "Paradise\n",
      "dict_values(['Blinding Lights', 'One Dance', 'Uptown Funk', 'Closer', 'One Kiss', 'Mr. Brightside', 'Wonderwall', 'We Found Love', 'Paradise', 'Yeah!'])\n"
     ]
    }
   ],
   "source": [
    "# Print the song by Coldplay\n",
    "print(playlist['Coldplay'])\n",
    "\n",
    "# Add a new song\n",
    "playlist['Usher'] = 'Yeah!'\n",
    "\n",
    "# Print the songs in the playlist\n",
    "print(playlist.values())"
   ]
  },
  {
   "cell_type": "markdown",
   "id": "1f2226e4-897a-4405-b9e3-7b89af5a924a",
   "metadata": {},
   "source": [
    "### Last quarter's revenue"
   ]
  },
  {
   "cell_type": "code",
   "execution_count": 39,
   "id": "4c0a5f8d-3fd1-45a0-8694-482f102ded8f",
   "metadata": {},
   "outputs": [
    {
     "name": "stdout",
     "output_type": "stream",
     "text": [
      "(325780, 1041, 4271599)\n"
     ]
    }
   ],
   "source": [
    "# Create a tuple\n",
    "q3_financials = (325780, 1041, 4271599)\n",
    "\n",
    "# Print the tuple\n",
    "print(q3_financials)"
   ]
  },
  {
   "cell_type": "markdown",
   "id": "a8f74452-c5c3-4700-a60a-dcccd4e64ac0",
   "metadata": {},
   "source": [
    "### DJ Sets"
   ]
  },
  {
   "cell_type": "code",
   "execution_count": 42,
   "id": "6faac5f9-cf62-4339-a57b-d8d4f05ae48f",
   "metadata": {},
   "outputs": [
    {
     "name": "stdout",
     "output_type": "stream",
     "text": [
      "{'Arctic Monkeys', 'Kings of Leon', 'Stereophonics'} {'Drake', '50 Cent', 'JAY-Z'}\n"
     ]
    }
   ],
   "source": [
    "hip_hop = [\"Drake\", \"JAY-Z\", \"50 Cent\", \"Drake\"]\n",
    "\n",
    "# Create a set\n",
    "indie_set = {\"Kings of Leon\", \"Arctic Monkeys\", \"Stereophonics\"}\n",
    "\n",
    "# Convert hip_hop to a set\n",
    "hip_hop_set = set(hip_hop)\n",
    "\n",
    "# Print the indie and hip_hop sets\n",
    "print(indie_set, hip_hop_set)"
   ]
  },
  {
   "cell_type": "markdown",
   "id": "5a53342d-872c-4323-a399-b157d76c0bc7",
   "metadata": {},
   "source": [
    "## Conditional statements and operators"
   ]
  },
  {
   "cell_type": "markdown",
   "id": "b59f7d68-a693-41dd-bd70-c98475d9003d",
   "metadata": {},
   "source": [
    "### Checking inflation"
   ]
  },
  {
   "cell_type": "code",
   "execution_count": 45,
   "id": "fcf7de85-c0a7-4c32-8e0d-45d740a5338f",
   "metadata": {},
   "outputs": [
    {
     "name": "stdout",
     "output_type": "stream",
     "text": [
      "Inflation remained stable\n"
     ]
    }
   ],
   "source": [
    "inflation_august = 6.7\n",
    "inflation_september = 6.7\n",
    "\n",
    "# Check if September inflation is less than August inflation\n",
    "if inflation_september < inflation_august:\n",
    "    print(\"Inflation decreased\")\n",
    "\n",
    "# Check if September inflation is more than August inflation\n",
    "elif inflation_september > inflation_august:\n",
    "    print(\"Inflation increased\")\n",
    "\n",
    "# Confirm that they are equal\n",
    "else:\n",
    "    print(\"Inflation remained stable\")"
   ]
  },
  {
   "cell_type": "markdown",
   "id": "879c6886-914d-4239-a1f1-04fd94485eab",
   "metadata": {},
   "source": [
    "### On the rental market"
   ]
  },
  {
   "cell_type": "code",
   "execution_count": 47,
   "id": "2b3c9ccd-acf7-45f8-82d4-f5735e4fda84",
   "metadata": {},
   "outputs": [
    {
     "name": "stdout",
     "output_type": "stream",
     "text": [
      "This looks promising!\n"
     ]
    }
   ],
   "source": [
    "min_num_beds = 2\n",
    "min_sq_foot = 750\n",
    "max_rent = 1900\n",
    "\n",
    "num_beds = 3\n",
    "sq_foot = 800\n",
    "rent = 1750\n",
    "\n",
    "# Check the number of beds\n",
    "if num_beds < min_num_beds:\n",
    "    print(\"Insufficient bedrooms\")\n",
    "\n",
    "# Check square feet\n",
    "elif sq_foot <= min_sq_foot:\n",
    "    print(\"Too small\")\n",
    "\n",
    "# Check rent\n",
    "elif rent > max_rent:\n",
    "    print(\"Too expensive\")\n",
    "\n",
    "# If all conditions met\n",
    "else:\n",
    "    print(\"This looks promising!\")"
   ]
  },
  {
   "cell_type": "code",
   "execution_count": null,
   "id": "929f071c-c747-4b4b-8ac1-0d3e70d7ceaf",
   "metadata": {},
   "outputs": [],
   "source": []
  }
 ],
 "metadata": {
  "kernelspec": {
   "display_name": "Python 3 (ipykernel)",
   "language": "python",
   "name": "python3"
  },
  "language_info": {
   "codemirror_mode": {
    "name": "ipython",
    "version": 3
   },
   "file_extension": ".py",
   "mimetype": "text/x-python",
   "name": "python",
   "nbconvert_exporter": "python",
   "pygments_lexer": "ipython3",
   "version": "3.12.7"
  }
 },
 "nbformat": 4,
 "nbformat_minor": 5
}
