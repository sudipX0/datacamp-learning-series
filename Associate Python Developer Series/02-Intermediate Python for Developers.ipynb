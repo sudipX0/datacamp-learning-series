{
 "cells": [
  {
   "cell_type": "markdown",
   "id": "be77355b-f167-4f67-a5f7-1999a41ee5d1",
   "metadata": {
    "jp-MarkdownHeadingCollapsed": true
   },
   "source": [
    "## The Python Ecosystem"
   ]
  },
  {
   "cell_type": "markdown",
   "id": "28b674cb-e7a6-4a30-a8db-a4e71ef385be",
   "metadata": {},
   "source": [
    "### Get some assistance"
   ]
  },
  {
   "cell_type": "code",
   "execution_count": null,
   "id": "81a40bd1-c2fe-49aa-8e0b-7131e367099e",
   "metadata": {},
   "outputs": [],
   "source": [
    "# Find out more about len()\n",
    "print(help(len))\n",
    "\n",
    "# Find out more about int\n",
    "print(help(int))\n",
    "\n",
    "# Find out more about lists\n",
    "print(help(list))"
   ]
  },
  {
   "cell_type": "markdown",
   "id": "b45407c6-b0ea-495d-9c6a-d80f256a3322",
   "metadata": {},
   "source": [
    "### Counting the elements"
   ]
  },
  {
   "cell_type": "code",
   "execution_count": 1,
   "id": "ec3016a7-e9da-4360-8614-10adf8e95b10",
   "metadata": {},
   "outputs": [
    {
     "name": "stdout",
     "output_type": "stream",
     "text": [
      "4\n"
     ]
    }
   ],
   "source": [
    "course_ratings = {\"LLM Concepts\": 4.7, \n",
    "                  \"Introduction to Data Pipelines\": 4.75, \n",
    "                  \"AI Ethics\": 4.62, \n",
    "                  \"Introduction to dbt\": 4.81}\n",
    "\n",
    "# Print the number of key-value pairs\n",
    "num_courses = len(course_ratings)\n",
    "print(num_courses)"
   ]
  },
  {
   "cell_type": "code",
   "execution_count": 2,
   "id": "223b09c0-45f1-40e8-8657-1b356a293d49",
   "metadata": {},
   "outputs": [
    {
     "name": "stdout",
     "output_type": "stream",
     "text": [
      "9\n"
     ]
    }
   ],
   "source": [
    "course_completions = [97, 83, 121, 205, 56, 174, 92, 117, 164]\n",
    "\n",
    "# Find the number of courses\n",
    "num_courses = len(course_completions)\n",
    "print(num_courses)"
   ]
  },
  {
   "cell_type": "code",
   "execution_count": 3,
   "id": "1ebeb6b3-7655-49f5-b1be-96ddab6175ba",
   "metadata": {},
   "outputs": [
    {
     "name": "stdout",
     "output_type": "stream",
     "text": [
      "19\n"
     ]
    }
   ],
   "source": [
    "most_popular_course = \"Introduction to dbt\"\n",
    "\n",
    "# How many characters are there in most_popular course?\n",
    "title_length = len(most_popular_course)\n",
    "print(title_length)"
   ]
  },
  {
   "cell_type": "code",
   "execution_count": 4,
   "id": "0c05db1f-08cc-462e-bcfe-6e9521d542a1",
   "metadata": {},
   "outputs": [
    {
     "name": "stdout",
     "output_type": "stream",
     "text": [
      "1109\n"
     ]
    }
   ],
   "source": [
    "# Print the total number of course completions\n",
    "print(sum(course_completions))"
   ]
  },
  {
   "cell_type": "code",
   "execution_count": 5,
   "id": "6c950780-386b-4bb6-87bc-8c9f406876a0",
   "metadata": {},
   "outputs": [
    {
     "name": "stdout",
     "output_type": "stream",
     "text": [
      "205\n"
     ]
    }
   ],
   "source": [
    "# Print the largest number of completions\n",
    "print(max(course_completions))"
   ]
  },
  {
   "cell_type": "code",
   "execution_count": 6,
   "id": "f3dc8427-cfdc-4622-8fb7-24cc7e9cd251",
   "metadata": {},
   "outputs": [
    {
     "name": "stdout",
     "output_type": "stream",
     "text": [
      "123.22222222222223\n"
     ]
    }
   ],
   "source": [
    "# Print the average number of completions\n",
    "print(sum(course_completions) /  len(course_completions))"
   ]
  },
  {
   "cell_type": "code",
   "execution_count": 7,
   "id": "f0e6aeef-3543-4f82-b916-59e41243af34",
   "metadata": {},
   "outputs": [
    {
     "name": "stdout",
     "output_type": "stream",
     "text": [
      "123.2\n"
     ]
    }
   ],
   "source": [
    "# Print the average number of completions, rounded to one decimal places\n",
    "print(round(sum(course_completions) / len(course_completions), 1))"
   ]
  },
  {
   "cell_type": "markdown",
   "id": "f64576af-c792-4bb4-b419-086414f2df48",
   "metadata": {},
   "source": [
    "### Working with the string module"
   ]
  },
  {
   "cell_type": "code",
   "execution_count": 9,
   "id": "394d24ca-6c3d-46ff-83d4-43d3dae2d32e",
   "metadata": {},
   "outputs": [
    {
     "name": "stdout",
     "output_type": "stream",
     "text": [
      "abcdefghijklmnopqrstuvwxyz\n",
      "!\"#$%&'()*+,-./:;<=>?@[\\]^_`{|}~\n"
     ]
    }
   ],
   "source": [
    "# Import the string module\n",
    "import string\n",
    "\n",
    "# Print all ASCII lowercase characters\n",
    "print(string.ascii_lowercase)\n",
    "\n",
    "# Print all punctuation\n",
    "print(string.punctuation)"
   ]
  },
  {
   "cell_type": "markdown",
   "id": "e192dae2-a19a-41e7-917f-c02aae9b531e",
   "metadata": {},
   "source": [
    "### Importing from a module"
   ]
  },
  {
   "cell_type": "code",
   "execution_count": 12,
   "id": "db595e84-ceb2-4860-b25a-4c939463d66b",
   "metadata": {},
   "outputs": [
    {
     "name": "stdout",
     "output_type": "stream",
     "text": [
      "<class 'datetime.date'>\n",
      "2024-01-19\n"
     ]
    }
   ],
   "source": [
    "# Import date from datetime module\n",
    "from datetime import date\n",
    "\n",
    "# Create a variable called deadline\n",
    "deadline = date(2024, 1, 19)\n",
    "\n",
    "# Check the date type\n",
    "print(type(deadline))\n",
    "\n",
    "# Print the deadline\n",
    "print(deadline)"
   ]
  },
  {
   "cell_type": "markdown",
   "id": "dba22fea-cae4-452f-a866-9a5fa8c74066",
   "metadata": {},
   "source": [
    "### Working with pandas"
   ]
  },
  {
   "cell_type": "code",
   "execution_count": 13,
   "id": "b33b0bb8-9a92-4ae5-afd3-91bdd0a4d59c",
   "metadata": {},
   "outputs": [],
   "source": [
    "sales = {'user_id': ['KM37', 'PR19', 'YU88', 'JB18', 'LP65', 'HJ11', 'PR19', 'IJ54'],\n",
    " 'date': ['01/05/2024',\n",
    "  '01/05/2024',\n",
    "  '01/06/2024',\n",
    "  '01/06/2024',\n",
    "  '01/06/2024',\n",
    "  '01/06/2024',\n",
    "  '01/07/2024',\n",
    "  '01/07/2024'],\n",
    " 'order_value': [197.75, 208.21, 134.99, 317.81, 201.3, 157.87, 99.99, 124.5]}"
   ]
  },
  {
   "cell_type": "code",
   "execution_count": 18,
   "id": "d1707a45-fcbd-4fa9-adce-7b5907f71db7",
   "metadata": {},
   "outputs": [
    {
     "name": "stdout",
     "output_type": "stream",
     "text": [
      "  user_id        date  order_value\n",
      "0    KM37  01/05/2024       197.75\n",
      "1    PR19  01/05/2024       208.21\n",
      "2    YU88  01/06/2024       134.99\n",
      "3    JB18  01/06/2024       317.81\n",
      "4    LP65  01/06/2024       201.30\n"
     ]
    }
   ],
   "source": [
    "# Import pandas as pd\n",
    "import pandas as pd\n",
    "\n",
    "# Convert sales to a pandas DataFrame\n",
    "sales_df = pd.DataFrame(sales)\n",
    "\n",
    "# Preview the first five rows\n",
    "print(sales_df.head())"
   ]
  },
  {
   "cell_type": "markdown",
   "id": "e6749ebd-c040-454b-949a-87d9dfa9fb77",
   "metadata": {},
   "source": [
    "### Performing calculations with pandas"
   ]
  },
  {
   "cell_type": "code",
   "execution_count": 21,
   "id": "b8820a84-2fe3-4468-95da-939cb6638554",
   "metadata": {},
   "outputs": [
    {
     "name": "stdout",
     "output_type": "stream",
     "text": [
      "180.3025\n",
      "1442.42\n"
     ]
    }
   ],
   "source": [
    "# Read in sales.csv\n",
    "sales_df = pd.read_csv('sales.csv')\n",
    "\n",
    "# Print the mean order_value\n",
    "print(sales_df['order_value'].mean())\n",
    "\n",
    "# Print the total value of sales\n",
    "print(sales_df['order_value'].sum())"
   ]
  },
  {
   "cell_type": "markdown",
   "id": "87537bf4-36e3-4514-9931-3b254a237b99",
   "metadata": {
    "jp-MarkdownHeadingCollapsed": true
   },
   "source": [
    "## Working with Functions"
   ]
  },
  {
   "cell_type": "markdown",
   "id": "b3c57e73-11f5-432f-b5d0-f5158c70dbdf",
   "metadata": {},
   "source": [
    "### Cleaning text data"
   ]
  },
  {
   "cell_type": "code",
   "execution_count": 22,
   "id": "d4c39983-a4bf-4617-9066-63aa9315c7c5",
   "metadata": {},
   "outputs": [
    {
     "name": "stdout",
     "output_type": "stream",
     "text": [
      "i_love_datacamp!\n"
     ]
    }
   ],
   "source": [
    "# Create the clean_string function\n",
    "def clean_string(text):\n",
    "    # Replace spaces with underscores\n",
    "    no_spaces = text.replace(\" \", \"_\")\n",
    "\n",
    "    # Convert to lowercase\n",
    "    clean_text = no_spaces.lower()\n",
    "\n",
    "    # Return the final text as an output\n",
    "    return clean_text\n",
    "\n",
    "converted_text = clean_string(\"I LoVe dATaCamP!\")\n",
    "print(converted_text)"
   ]
  },
  {
   "cell_type": "markdown",
   "id": "a265787a-e9ba-452e-87e1-038a50762eea",
   "metadata": {},
   "source": [
    "### Building a password checker"
   ]
  },
  {
   "cell_type": "code",
   "execution_count": 23,
   "id": "e5cbf59f-8f9b-4c6f-b92e-53f8229b0f3b",
   "metadata": {},
   "outputs": [
    {
     "name": "stdout",
     "output_type": "stream",
     "text": [
      "Incorrect password\n"
     ]
    }
   ],
   "source": [
    "password = \"not_very_secure_2023\"\n",
    "\n",
    "# Define the password_checker function\n",
    "def password_checker(submission):\n",
    "    # Check that the password variable and the submission match\n",
    "    if password == submission:\n",
    "        print(\"Successful login!\")\n",
    "\n",
    "    # Otherwise, print \"Incorrect password\"\n",
    "    else:\n",
    "        print(\"Incorrect password\")\n",
    "\n",
    "# Call the function\n",
    "password_checker(\"NOT_VERY_SECURE_2023\")"
   ]
  },
  {
   "cell_type": "markdown",
   "id": "c51e0c81-fc10-4fc8-a677-a5311df936e1",
   "metadata": {},
   "source": [
    "### Adding a keyword argument"
   ]
  },
  {
   "cell_type": "code",
   "execution_count": null,
   "id": "f8f66e6a-0e4d-4e6b-8dfb-c5c3fc15793f",
   "metadata": {},
   "outputs": [],
   "source": [
    "# Define clean_text\n",
    "def clean_text(text, lower=True):\n",
    "    if lower == False:\n",
    "        clean_text = text.replace(\" \", \"_\")\n",
    "        return clean_text\n",
    "    else:\n",
    "        clean_text = text.replace(\" \", \"_\")\n",
    "        clean_text = clean_text.lower()\n",
    "        return clean_text"
   ]
  },
  {
   "cell_type": "code",
   "execution_count": 24,
   "id": "97a99589-1ea3-4901-99ff-6bdf3355ec05",
   "metadata": {},
   "outputs": [],
   "source": [
    "# Redefining clean_text\n",
    "def clean_text(text, remove=None):\n",
    "    if remove != None:\n",
    "        clean_text = text.replace(remove, \"\")\n",
    "        clean_text = clean_text.lower()\n",
    "        return clean_text\n",
    "    else:\n",
    "        clean_text = text.lower()\n",
    "        return clean_text"
   ]
  },
  {
   "cell_type": "markdown",
   "id": "3f549402-5dc1-4347-a7eb-7112974f74cb",
   "metadata": {},
   "source": [
    "### Data structure converter function"
   ]
  },
  {
   "cell_type": "code",
   "execution_count": 25,
   "id": "1e9bb5b5-1434-4d35-978c-2609b2ccb440",
   "metadata": {},
   "outputs": [],
   "source": [
    "# Create the convert_data_structure function\n",
    "def convert_data_structure(data, data_type='list'):\n",
    "    # If data_type is \"tuple\":\n",
    "    if data_type == \"tuple\":\n",
    "        data = tuple(data)\n",
    "\n",
    "    # Else if data_type is set, convert to a set\n",
    "    elif data_type == \"set\":\n",
    "        data = set(data)\n",
    "    else:\n",
    "        data = list(data)\n",
    "        return data\n",
    "\n",
    "# Call the function to convert to a set\n",
    "convert_data_structure({\"a\", 1, \"b\", 2, \"c\", 3}, data_type=\"set\")"
   ]
  },
  {
   "cell_type": "markdown",
   "id": "df076862-9370-49a8-ae1f-ff3bded36064",
   "metadata": {},
   "source": [
    "### Single-line docstrings"
   ]
  },
  {
   "cell_type": "code",
   "execution_count": 26,
   "id": "d5531882-67dc-408a-9b24-d48a929547ba",
   "metadata": {},
   "outputs": [
    {
     "name": "stdout",
     "output_type": "stream",
     "text": [
      "Swap spaces to underscores and convert text to lowercase.\n"
     ]
    }
   ],
   "source": [
    "def clean_string(text):\n",
    "    # Add a single-line docstring\n",
    "    \"\"\"Swap spaces to underscores and convert text to lowercase.\"\"\"\n",
    "\n",
    "    no_spaces = text.replace(\" \", \"_\")\n",
    "    clean_text = no_spaces.lower()\n",
    "    return clean_text\n",
    "\n",
    "# Access the docstring\n",
    "print(clean_string.__doc__)"
   ]
  },
  {
   "cell_type": "markdown",
   "id": "82b0c34c-d8fb-4534-982e-a9d463fd93d1",
   "metadata": {},
   "source": [
    "### Multi-line docstrings"
   ]
  },
  {
   "cell_type": "code",
   "execution_count": 29,
   "id": "fe9f167e-aef4-4d4c-a280-ed09299149ab",
   "metadata": {},
   "outputs": [
    {
     "name": "stdout",
     "output_type": "stream",
     "text": [
      "\n",
      "    Convert a data structure to a list, tuple, or set.\n",
      "    \n",
      "    Args:\n",
      "        data (list, tuple, or set): A data structure to be converted.\n",
      "        data_type (str): String representing the type of structure to convert data to.\n",
      "    \n",
      "    Returns:\n",
      "        data (list, tuple, or set): Converted data structure.\n",
      "    \n",
      "    \n"
     ]
    }
   ],
   "source": [
    "# Create the convert_data_type function\n",
    "def convert_data_structure(data, data_type=\"list\"):\n",
    "    # Add a multi-line docstring\n",
    "    \"\"\"\n",
    "    Convert a data structure to a list, tuple, or set.\n",
    "    \n",
    "    Args:\n",
    "        data (list, tuple, or set): A data structure to be converted.\n",
    "        data_type (str): String representing the type of structure to convert data to.\n",
    "    \n",
    "    Returns:\n",
    "        data (list, tuple, or set): Converted data structure.\n",
    "    \n",
    "    \"\"\"\n",
    "    if data_type == \"tuple\":\n",
    "        data = tuple(data)\n",
    "    elif data_type == \"set\":\n",
    "        data = set(data)\n",
    "    else:\n",
    "        data = list(data)\n",
    "    return data\n",
    "\n",
    "print(convert_data_structure.__doc__)"
   ]
  },
  {
   "cell_type": "markdown",
   "id": "129f460f-4f6e-4c22-957e-8d8010c47594",
   "metadata": {},
   "source": [
    "### Adding arbitrary arguments"
   ]
  },
  {
   "cell_type": "code",
   "execution_count": 30,
   "id": "52455917-2ee4-4c8d-bf5f-51215c7394b5",
   "metadata": {},
   "outputs": [
    {
     "name": "stdout",
     "output_type": "stream",
     "text": [
      " Python is great!\n"
     ]
    }
   ],
   "source": [
    "# Define a function called concat\n",
    "def concat(*args):\n",
    "    # Create an empty string\n",
    "    result = \"\"\n",
    "    # Iterate over the Python args tuple\n",
    "    for arg in args:\n",
    "        result += \" \" + arg\n",
    "    return result\n",
    "\n",
    "# Call the function\n",
    "print(concat(\"Python\", \"is\", \"great!\"))"
   ]
  },
  {
   "cell_type": "markdown",
   "id": "cd2f7144-9c83-435c-8cfe-d64211f667b8",
   "metadata": {},
   "source": [
    "### Adding keyword arguments"
   ]
  },
  {
   "cell_type": "code",
   "execution_count": 43,
   "id": "519bad06-28e8-4b43-b235-ca819b517126",
   "metadata": {},
   "outputs": [
    {
     "name": "stdout",
     "output_type": "stream",
     "text": [
      " Python is great!\n"
     ]
    }
   ],
   "source": [
    "# Define a function called concat\n",
    "def concat(**kwargs):\n",
    "    # Create an empty string\n",
    "    result = \"\"\n",
    "\n",
    "    # Iterate over the Python kwargs\n",
    "    for kwarg in kwargs.values():\n",
    "        result += \" \" + kwarg\n",
    "    return result\n",
    "\n",
    "# Call the function\n",
    "print(concat(start=\"Python\", middle=\"is\", end=\"great!\"))"
   ]
  },
  {
   "cell_type": "markdown",
   "id": "cc803b7b-60b5-408d-94ce-068382dd7b72",
   "metadata": {},
   "source": [
    "## Lambda functions and error-handling"
   ]
  },
  {
   "cell_type": "markdown",
   "id": "569291b8-5782-4995-893d-08e4036cc1fe",
   "metadata": {},
   "source": [
    "### Adding tax"
   ]
  },
  {
   "cell_type": "code",
   "execution_count": 44,
   "id": "22090531-45dc-450d-a95f-57a91421af02",
   "metadata": {},
   "outputs": [
    {
     "name": "stdout",
     "output_type": "stream",
     "text": [
      "35.988\n"
     ]
    }
   ],
   "source": [
    "sale_price = 29.99\n",
    "\n",
    "# Define a lambda function called add_tax\n",
    "add_tax = lambda x: x * 1.2\n",
    "\n",
    "# Call the lambda function\n",
    "print(add_tax(sale_price))"
   ]
  },
  {
   "cell_type": "markdown",
   "id": "56acea8d-cc76-42d8-9b8f-b6f94ae9558a",
   "metadata": {},
   "source": [
    "### Calling lambda in-line"
   ]
  },
  {
   "cell_type": "code",
   "execution_count": 46,
   "id": "b7cb7925-4623-4541-a6ce-4be7fa651d22",
   "metadata": {},
   "outputs": [
    {
     "name": "stdout",
     "output_type": "stream",
     "text": [
      "35.988\n"
     ]
    }
   ],
   "source": [
    "sale_price = 29.99\n",
    "\n",
    "# Call a lambda function adding 20% to sale_price\n",
    "print((lambda x: x * 1.2)(sale_price))"
   ]
  },
  {
   "cell_type": "markdown",
   "id": "f3d20943-8168-453a-9abf-c399472cd57b",
   "metadata": {},
   "source": [
    "### Lambda funtion with iterables"
   ]
  },
  {
   "cell_type": "code",
   "execution_count": 49,
   "id": "d183200c-dde6-43fe-ade8-9486d09966d3",
   "metadata": {},
   "outputs": [
    {
     "name": "stdout",
     "output_type": "stream",
     "text": [
      "[35.988, 11.94, 17.4, 47.699999999999996, 72.0]\n"
     ]
    }
   ],
   "source": [
    "sales_prices = [29.99, 9.95, 14.50, 39.75, 60.00]\n",
    "\n",
    "# Create add_taxes to add 20% to each item in sales_prices\n",
    "add_taxes = map(lambda x: x * 1.2, sales_prices)\n",
    "\n",
    "# Use add_taxes to return a new list with updated values\n",
    "print(list(add_taxes))"
   ]
  },
  {
   "cell_type": "markdown",
   "id": "1ae2eed0-fff3-4695-b2c1-c4ce67e1571e",
   "metadata": {},
   "source": [
    "### Debugging code"
   ]
  },
  {
   "cell_type": "code",
   "execution_count": 52,
   "id": "b8420fe3-b35a-4c0f-9113-182609128dcb",
   "metadata": {},
   "outputs": [
    {
     "name": "stdout",
     "output_type": "stream",
     "text": [
      "[125.97, 84.32, 99.78, 154.21, 78.5, 83.67, 111.13]\n"
     ]
    }
   ],
   "source": [
    "# Define the sales list\n",
    "sales = [125.97, 84.32, 99.78, 154.21, 78.50, 83.67, 111.13]\n",
    "\n",
    "# Print the sales list\n",
    "# print(sale) -> SyntaxError\n",
    "print(sales)\n"
   ]
  },
  {
   "cell_type": "markdown",
   "id": "6f324f74-9d03-4b71-b084-4a52e87aa95f",
   "metadata": {},
   "source": [
    "### Avoiding errors"
   ]
  },
  {
   "cell_type": "code",
   "execution_count": 55,
   "id": "552a81cc-e073-4c29-a0e2-dfd79ce06704",
   "metadata": {},
   "outputs": [],
   "source": [
    "def snake_case(text):\n",
    "    # Attempt to clean the text\n",
    "    try:\n",
    "        clean_text = text.replace(\" \", \"_\")\n",
    "        clean_text = clean_text.lower()\n",
    "    # Run this code if an error occurs\n",
    "    except:\n",
    "        print(\"The snake_case() function expects a string as an argument, please check the data type provided.\")\n",
    "\n",
    "snake_case(\"User Name 187\")"
   ]
  },
  {
   "cell_type": "markdown",
   "id": "e46157e5-2422-4386-8df6-fbe65f6197b7",
   "metadata": {},
   "source": [
    "## Returning errors"
   ]
  },
  {
   "cell_type": "code",
   "execution_count": 60,
   "id": "b99736a9-e92a-46d9-85c8-e02ee7167fa9",
   "metadata": {},
   "outputs": [],
   "source": [
    "def snake_case(text):\n",
    "  # Check the data type\n",
    "  if type(text) == str:\n",
    "    clean_text = text.replace(\" \", \"_\")\n",
    "    clean_text = clean_text.lower()\n",
    "  else:\n",
    "    # Return a TypeError error if the wrong data type was used\n",
    "    raise TypeError(\"The snake_case() function expects a string as an argument, please check the data type provided.\")\n",
    "    \n",
    "snake_case(\"User Name 187\")"
   ]
  },
  {
   "cell_type": "code",
   "execution_count": null,
   "id": "9192a27a-db98-4c3f-963e-ee0efed9f398",
   "metadata": {},
   "outputs": [],
   "source": []
  }
 ],
 "metadata": {
  "kernelspec": {
   "display_name": "Python 3 (ipykernel)",
   "language": "python",
   "name": "python3"
  },
  "language_info": {
   "codemirror_mode": {
    "name": "ipython",
    "version": 3
   },
   "file_extension": ".py",
   "mimetype": "text/x-python",
   "name": "python",
   "nbconvert_exporter": "python",
   "pygments_lexer": "ipython3",
   "version": "3.12.7"
  }
 },
 "nbformat": 4,
 "nbformat_minor": 5
}
