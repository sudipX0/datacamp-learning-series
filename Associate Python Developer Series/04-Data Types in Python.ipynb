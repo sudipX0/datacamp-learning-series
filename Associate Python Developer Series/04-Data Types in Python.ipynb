{
 "cells": [
  {
   "cell_type": "markdown",
   "id": "43345ae4-157e-4600-94c5-bd078970af64",
   "metadata": {
    "jp-MarkdownHeadingCollapsed": true
   },
   "source": [
    "## Fundamental Sequence Data Types"
   ]
  },
  {
   "cell_type": "markdown",
   "id": "4b769797-5b97-4adb-8e4f-fd0820f1e847",
   "metadata": {},
   "source": [
    "### Manipulating lists for fun and profit"
   ]
  },
  {
   "cell_type": "code",
   "execution_count": 2,
   "id": "0a02c1ac-1ce3-4184-a72b-ad6ee535d34f",
   "metadata": {},
   "outputs": [
    {
     "name": "stdout",
     "output_type": "stream",
     "text": [
      "['Ximena', 'Aliza', 'Ayden', 'Calvin', 'Sandeep']\n"
     ]
    }
   ],
   "source": [
    "# Create a list containing the names: baby_names\n",
    "baby_names = ['Ximena', 'Aliza', 'Ayden', 'Calvin']\n",
    "\n",
    "# Extend baby_names with 'Rowen' and 'Sandeep'\n",
    "baby_names.extend(['Rowen', 'Sandeep'])\n",
    "\n",
    "# Find the position of 'Rowen': position\n",
    "position = baby_names.index('Rowen')\n",
    "baby_names.pop(position)\n",
    "\n",
    "# Print baby_names\n",
    "print(baby_names)"
   ]
  },
  {
   "cell_type": "markdown",
   "id": "7c827973-7434-479a-81af-c8cd30d6459a",
   "metadata": {},
   "source": [
    "### Looping over lists"
   ]
  },
  {
   "cell_type": "code",
   "execution_count": 3,
   "id": "6dd3ebb7-fecc-4e91-b71e-f0fd6fad0efc",
   "metadata": {},
   "outputs": [
    {
     "name": "stdout",
     "output_type": "stream",
     "text": [
      "['Abigail', 'Addison', 'Amelia', 'Aubrey', 'Ava', 'Avery', 'Brooklyn', 'Charlotte', 'Chloe', 'Elizabeth', 'Ella', 'Emily', 'Emma', 'Evelyn', 'Grace', 'Harper', 'Isabella', 'Lillian', 'Madison', 'Mia', 'Natalie', 'Olivia', 'Sofia', 'Sophia', 'Victoria', 'Zoey']\n"
     ]
    }
   ],
   "source": [
    "records = [['2014', 'F', '20799', 'Emma'],\n",
    " ['2014', 'F', '19674', 'Olivia'],\n",
    " ['2014', 'F', '18490', 'Sophia'],\n",
    " ['2014', 'F', '16950', 'Isabella'],\n",
    " ['2014', 'F', '15586', 'Ava'],\n",
    " ['2014', 'F', '13442', 'Mia'],\n",
    " ['2014', 'F', '12562', 'Emily'],\n",
    " ['2014', 'F', '11985', 'Abigail'],\n",
    " ['2014', 'F', '10247', 'Madison'],\n",
    " ['2014', 'F', '10048', 'Charlotte'],\n",
    " ['2014', 'F', '9564', 'Harper'],\n",
    " ['2014', 'F', '9542', 'Sofia'],\n",
    " ['2014', 'F', '9517', 'Avery'],\n",
    " ['2014', 'F', '9492', 'Elizabeth'],\n",
    " ['2014', 'F', '8727', 'Amelia'],\n",
    " ['2014', 'F', '8692', 'Evelyn'],\n",
    " ['2014', 'F', '8489', 'Ella'],\n",
    " ['2014', 'F', '8469', 'Chloe'],\n",
    " ['2014', 'F', '7955', 'Victoria'],\n",
    " ['2014', 'F', '7589', 'Aubrey'],\n",
    " ['2014', 'F', '7554', 'Grace'],\n",
    " ['2014', 'F', '7358', 'Zoey'],\n",
    " ['2014', 'F', '7061', 'Natalie'],\n",
    " ['2014', 'F', '6950', 'Addison'],\n",
    " ['2014', 'F', '6869', 'Lillian'],\n",
    " ['2014', 'F', '6767', 'Brooklyn']]\n",
    "\n",
    "# Create the list comprehension: baby_names\n",
    "baby_names = [row[3] for row in records]\n",
    "\n",
    "# Print the sorted baby names in ascending alphabetical order\n",
    "print(sorted(baby_names))"
   ]
  },
  {
   "cell_type": "markdown",
   "id": "9f219406-f548-4cb5-aea8-b84b882b5681",
   "metadata": {},
   "source": [
    "### Using and unpacking tuples"
   ]
  },
  {
   "cell_type": "code",
   "execution_count": 2,
   "id": "e3b2d1c2-3e41-4954-acf1-87f137406af7",
   "metadata": {},
   "outputs": [],
   "source": [
    "boy_names = ['Josiah',\n",
    " 'Ethan',\n",
    " 'David',\n",
    " 'Jayden',\n",
    " 'Mason',\n",
    " 'Ryan',\n",
    " 'Christian',\n",
    " 'Isaiah',\n",
    " 'Jayden',\n",
    " 'Michael',\n",
    " 'Noah',\n",
    " 'Samuel',\n",
    " 'Sebastian',\n",
    " 'Noah',\n",
    " 'Dylan',\n",
    " 'Lucas',\n",
    " 'Joshua',\n",
    " 'Angel',\n",
    " 'Jacob',\n",
    " 'Matthew',\n",
    " 'Josiah',\n",
    " 'Jacob',\n",
    " 'Muhammad',\n",
    " 'Alexander',\n",
    " 'Jason']\n",
    "\n",
    "girl_names = ['Jada',\n",
    " 'Emily',\n",
    " 'Ava',\n",
    " 'Serenity',\n",
    " 'Claire',\n",
    " 'Sophia',\n",
    " 'Sarah',\n",
    " 'Ashley',\n",
    " 'Chaya',\n",
    " 'Abigail',\n",
    " 'Zoe',\n",
    " 'Leah',\n",
    " 'Hailey',\n",
    " 'Ava',\n",
    " 'Olivia',\n",
    " 'Emma',\n",
    " 'Chloe',\n",
    " 'Sophia',\n",
    " 'Aaliyah',\n",
    " 'Angela',\n",
    " 'Camila',\n",
    " 'Savannah',\n",
    " 'Serenity',\n",
    " 'Chloe',\n",
    " 'Fatoumata']\n"
   ]
  },
  {
   "cell_type": "code",
   "execution_count": 4,
   "id": "f79fae40-5f91-44fc-9cfe-bc7bc962aac4",
   "metadata": {},
   "outputs": [
    {
     "name": "stdout",
     "output_type": "stream",
     "text": [
      "Rank 1: Jada and Josiah\n",
      "Rank 2: Emily and Ethan\n",
      "Rank 3: Ava and David\n",
      "Rank 4: Serenity and Jayden\n",
      "Rank 5: Claire and Mason\n",
      "Rank 6: Sophia and Ryan\n",
      "Rank 7: Sarah and Christian\n",
      "Rank 8: Ashley and Isaiah\n",
      "Rank 9: Chaya and Jayden\n",
      "Rank 10: Abigail and Michael\n",
      "Rank 11: Zoe and Noah\n",
      "Rank 12: Leah and Samuel\n",
      "Rank 13: Hailey and Sebastian\n",
      "Rank 14: Ava and Noah\n",
      "Rank 15: Olivia and Dylan\n",
      "Rank 16: Emma and Lucas\n",
      "Rank 17: Chloe and Joshua\n",
      "Rank 18: Sophia and Angel\n",
      "Rank 19: Aaliyah and Jacob\n",
      "Rank 20: Angela and Matthew\n",
      "Rank 21: Camila and Josiah\n",
      "Rank 22: Savannah and Jacob\n",
      "Rank 23: Serenity and Muhammad\n",
      "Rank 24: Chloe and Alexander\n",
      "Rank 25: Fatoumata and Jason\n"
     ]
    }
   ],
   "source": [
    "# Pair up the girl and boy names: pairs\n",
    "pairs = zip(girl_names, boy_names)\n",
    "\n",
    "# Iterate over pairs\n",
    "for rank, pair in enumerate(pairs):\n",
    "    # Unpack pair: girl_name, boy_name\n",
    "    girl_name, boy_name = pair\n",
    "    # Print the rank and names associated with each rank\n",
    "    print(f\"Rank {rank + 1}: {girl_name} and {boy_name}\")"
   ]
  },
  {
   "cell_type": "markdown",
   "id": "2acc96cb-17d1-4520-8444-f7b24abb2804",
   "metadata": {},
   "source": [
    "### Making tuples by accident"
   ]
  },
  {
   "cell_type": "code",
   "execution_count": 5,
   "id": "f44e3cc0-c2dc-48b1-93a5-2779c20d81fe",
   "metadata": {},
   "outputs": [
    {
     "name": "stdout",
     "output_type": "stream",
     "text": [
      "<class 'str'>\n",
      "<class 'tuple'>\n"
     ]
    }
   ],
   "source": [
    "# Create the normal variable: normal\n",
    "normal = 'simple'\n",
    "\n",
    "# Create the mistaken variable: error\n",
    "error = 'trailing comma',\n",
    "\n",
    "# Print the types of the variables\n",
    "print(type(normal))\n",
    "print(type(error))"
   ]
  },
  {
   "cell_type": "markdown",
   "id": "93a8d8bd-a68f-40d1-a784-44ca5d8f5d47",
   "metadata": {},
   "source": [
    "### Formatted String Literals (\"f\" strings)"
   ]
  },
  {
   "cell_type": "code",
   "execution_count": 6,
   "id": "20cc843e-98ff-4adf-b2ca-0ac638168c40",
   "metadata": {},
   "outputs": [],
   "source": [
    "top_ten_girl_names = [(1, 'Jada'),\n",
    " (2, 'Emily'),\n",
    " (3, 'Ava'),\n",
    " (4, 'Serenity'),\n",
    " (5, 'Claire'),\n",
    " (6, 'Sophia'),\n",
    " (7, 'Sarah'),\n",
    " (8, 'Ashley'),\n",
    " (9, 'Chaya'),\n",
    " (10, 'Abigail')]"
   ]
  },
  {
   "cell_type": "code",
   "execution_count": 7,
   "id": "78f6890f-48f9-46aa-b0d3-b6e7cece5f88",
   "metadata": {},
   "outputs": [
    {
     "name": "stdout",
     "output_type": "stream",
     "text": [
      "Rank #: 1 - Jada\n",
      "Rank #: 2 - Emily\n",
      "Rank #: 3 - Ava\n",
      "Rank #: 4 - Serenity\n",
      "Rank #: 5 - Claire\n",
      "Rank #: 6 - Sophia\n",
      "Rank #: 7 - Sarah\n",
      "Rank #: 8 - Ashley\n",
      "Rank #: 9 - Chaya\n",
      "Rank #: 10 - Abigail\n"
     ]
    }
   ],
   "source": [
    "# Loop over top_ten_girl_names and unpack each tuple inot top_ten_rank and name\n",
    "for top_ten_rank, name in top_ten_girl_names:\n",
    "    # Print each name in proper format\n",
    "    print(f\"Rank #: {top_ten_rank} - {name}\")"
   ]
  },
  {
   "cell_type": "markdown",
   "id": "c0aa14d9-8fe3-4e86-b391-03cb3da4e94c",
   "metadata": {},
   "source": [
    "### Combining multiple strings"
   ]
  },
  {
   "cell_type": "code",
   "execution_count": 13,
   "id": "0f5944c9-6005-49c7-8c24-d4d085a52678",
   "metadata": {},
   "outputs": [
    {
     "name": "stdout",
     "output_type": "stream",
     "text": [
      "The top ten boy names are: Josiah, Ethan, David, Jayden, Mason, Ryan, Christian, Isaiah, Jayden, and Jason.\n"
     ]
    }
   ],
   "source": [
    "# The top ten boy names are: as preamble\n",
    "preamble = \"The top ten boy names are: \"\n",
    "\n",
    "# , and as conjunction\n",
    "conjunction = \", and\"\n",
    "\n",
    "# Combines the first 9 names in boy_names with a comma and space as first_nine_names\n",
    "first_nine_names = \", \".join(boy_names[:9])\n",
    "\n",
    "# Print f-string preamble, first_nine_names, conjunction, the final item in boy_names and a period\n",
    "print(f\"{preamble}{first_nine_names}{conjunction} {boy_names[-1]}.\")"
   ]
  },
  {
   "cell_type": "markdown",
   "id": "f7dcf83d-f1bb-4434-8016-15b341a5d531",
   "metadata": {},
   "source": [
    "### Finding strings in other strings"
   ]
  },
  {
   "cell_type": "code",
   "execution_count": 15,
   "id": "a8c13de0-e71a-4f98-9452-1087cfc3df18",
   "metadata": {},
   "outputs": [
    {
     "name": "stdout",
     "output_type": "stream",
     "text": [
      "['Serenity', 'Sophia', 'Sarah', 'Sophia', 'Savannah', 'Serenity']\n"
     ]
    }
   ],
   "source": [
    "# Store a list of girl_names that start with s: names_with_s\n",
    "names_with_s = [name for name in girl_names if name.lower().startswith('s')]\n",
    "print(names_with_s)"
   ]
  },
  {
   "cell_type": "code",
   "execution_count": 17,
   "id": "265b40d7-3927-4011-8335-80f6787f2f62",
   "metadata": {},
   "outputs": [
    {
     "name": "stdout",
     "output_type": "stream",
     "text": [
      "['Angela']\n"
     ]
    }
   ],
   "source": [
    "# Store a list of girl names that contain angel: names_with_angel\n",
    "names_with_angel = [name for name in girl_names if 'angel' in name.lower()]\n",
    "print(names_with_angel)"
   ]
  },
  {
   "cell_type": "markdown",
   "id": "51b58361-eedf-45b2-9e4c-4595ebcfa65b",
   "metadata": {
    "jp-MarkdownHeadingCollapsed": true
   },
   "source": [
    "## Dictionaries - The Root of Python"
   ]
  },
  {
   "cell_type": "markdown",
   "id": "42615c7b-9b67-4eec-9733-80da9d064609",
   "metadata": {},
   "source": [
    "### Creating and looping through dictionaries"
   ]
  },
  {
   "cell_type": "code",
   "execution_count": 22,
   "id": "18d1b64f-b1b8-494d-937b-04eff091047a",
   "metadata": {},
   "outputs": [
    {
     "name": "stdout",
     "output_type": "stream",
     "text": [
      "City Hall Park: ('Gray', 'Cinnamon', 'Eating', 'Approaches')\n",
      "Highbridge Park: ('Gray', 'Cinnamon', 'Running, Eating', 'Runs From, watches us in short tree')\n",
      "J. Hood Wright Park: ('Gray', 'White', 'Running', 'Indifferent')\n",
      "Madison Square Park: ('Gray', None, 'Foraging', 'Indifferent')\n",
      "Marcus Garvey Park: ('Black', 'Cinnamon', 'Cleaning', None)\n",
      "Seward Park: ('Gray', 'Cinnamon', 'Eating', 'Indifferent')\n",
      "Tompkins Square Park: ('Gray', 'Gray', 'Lounging', 'Approaches')\n",
      "Union Square Park: ('Gray', 'Black', 'Climbing', None)\n"
     ]
    }
   ],
   "source": [
    "squirrels = [\n",
    " ('Marcus Garvey Park', ('Black', 'Cinnamon', 'Cleaning', None)),\n",
    " ('Highbridge Park', ('Gray', 'Cinnamon', 'Running, Eating', 'Runs From, watches us in short tree')),\n",
    " ('Madison Square Park', ('Gray', None, 'Foraging', 'Indifferent')),\n",
    " ('City Hall Park', ('Gray', 'Cinnamon', 'Eating', 'Approaches')),\n",
    " ('J. Hood Wright Park', ('Gray', 'White', 'Running', 'Indifferent')),\n",
    " ('Seward Park', ('Gray', 'Cinnamon', 'Eating', 'Indifferent')),\n",
    " ('Union Square Park', ('Gray', 'Black', 'Climbing', None)),\n",
    " ('Tompkins Square Park', ('Gray', 'Gray', 'Lounging', 'Approaches'))\n",
    "]\n",
    "\n",
    "# Create an empty dictionary: squirrels_by_park\n",
    "squirrels_by_park = {}\n",
    "\n",
    "# Loop over the squirrels list and unpack each tuple\n",
    "for park, squirrel_details in squirrels:\n",
    "    # Add each squirrel_details to the squirrels_by_park dictionary\n",
    "    squirrels_by_park[park] = squirrel_details\n",
    "\n",
    "# Sort the squirrels_by_park dict alphabetically by park\n",
    "for park in sorted(squirrels_by_park):\n",
    "    # Print each park and its value in squirrels_by_park\n",
    "    print(f\"{park}: {squirrels_by_park[park]}\")"
   ]
  },
  {
   "cell_type": "code",
   "execution_count": 26,
   "id": "c20baf9f-f4c4-454e-ac5a-148c2b787e21",
   "metadata": {},
   "outputs": [
    {
     "name": "stdout",
     "output_type": "stream",
     "text": [
      "('Gray', 'Black', 'Climbing', None)\n",
      "<class 'NoneType'>\n",
      "Not Found\n"
     ]
    }
   ],
   "source": [
    "# Safely print 'Union Square Park' from the squirrels_by_park dictionary\n",
    "print(squirrels_by_park.get('Union Square Park'))\n",
    "\n",
    "# Safely print the type of 'Fort Tryon Park' from the squirrels_by_park dictionary\n",
    "print(type(squirrels_by_park.get('Fort Tryon Park')))\n",
    "\n",
    "# Safely print 'Central Park' from the squirrels_by_park dictionary or 'Not Found'\n",
    "print(squirrels_by_park.get('Central Park', 'Not Found'))"
   ]
  },
  {
   "cell_type": "markdown",
   "id": "c2f7d781-ed62-4774-b625-3a3f6ac4c3f9",
   "metadata": {},
   "source": [
    "### Adding and extending dictionaries"
   ]
  },
  {
   "cell_type": "code",
   "execution_count": 40,
   "id": "79d044bc-9bff-4382-af99-f7ca884611cc",
   "metadata": {},
   "outputs": [
    {
     "name": "stdout",
     "output_type": "stream",
     "text": [
      "Madison Square Park ['Gray', 'Gray', 'Gray']\n",
      "Union Square Park ['Gray', 'Gray', 'Cinnamon', 'Gray', 'Gray', 'Gray', 'Gray']\n"
     ]
    }
   ],
   "source": [
    "squirrels_by_park = {}\n",
    "\n",
    "squirrels_madison = [\n",
    " {'primary_fur_color': 'Gray',\n",
    "  'highlights_in_fur_color': None,\n",
    "  'activities': 'Sitting',\n",
    "  'interactions_with_humans': 'Indifferent'},\n",
    " {'primary_fur_color': 'Gray',\n",
    "  'highlights_in_fur_color': 'Cinnamon',\n",
    "  'activities': 'Foraging',\n",
    "  'interactions_with_humans': 'Indifferent'},\n",
    " {'primary_fur_color': 'Gray',\n",
    "  'highlights_in_fur_color': None,\n",
    "  'activities': 'Climbing, Foraging',\n",
    "  'interactions_with_humans': 'Indifferent'}\n",
    "]\n",
    "# Assign squirrels_madison as the value to the 'Madison Square Park' key\n",
    "squirrels_by_park['Madison Square Park'] = squirrels_madison\n",
    "\n",
    "squirrels_union = ('Union Square Park',\n",
    " [{'primary_fur_color': 'Gray',\n",
    "   'highlights_in_fur_color': None,\n",
    "   'activities': 'Eating, Foraging',\n",
    "   'interactions_with_humans': None},\n",
    "  {'primary_fur_color': 'Gray',\n",
    "   'highlights_in_fur_color': 'Cinnamon',\n",
    "   'activities': 'Climbing, Eating',\n",
    "   'interactions_with_humans': None},\n",
    "  {'primary_fur_color': 'Cinnamon',\n",
    "   'highlights_in_fur_color': None,\n",
    "   'activities': 'Foraging',\n",
    "   'interactions_with_humans': 'Indifferent'},\n",
    "  {'primary_fur_color': 'Gray',\n",
    "   'highlights_in_fur_color': None,\n",
    "   'activities': 'Running, Digging',\n",
    "   'interactions_with_humans': 'Runs From'},\n",
    "  {'primary_fur_color': 'Gray',\n",
    "   'highlights_in_fur_color': None,\n",
    "   'activities': 'Digging',\n",
    "   'interactions_with_humans': 'Indifferent'},\n",
    "  {'primary_fur_color': 'Gray',\n",
    "   'highlights_in_fur_color': 'Black',\n",
    "   'activities': 'Climbing',\n",
    "   'interactions_with_humans': None},\n",
    "  {'primary_fur_color': 'Gray',\n",
    "   'highlights_in_fur_color': None,\n",
    "   'activities': 'Eating, Foraging',\n",
    "   'interactions_with_humans': None}])\n",
    "\n",
    "# Update squirrels_by_park with the squirrels_union tuple\n",
    "squirrels_by_park.update([squirrels_union])\n",
    "\n",
    "# Loop over the park_name in the squirrels_by_park dictionary\n",
    "for park_name in squirrels_by_park:\n",
    "    # Safely print a list of primary_fur_color for each squirrel in park_name\n",
    "    print(park_name, [squirrel.get('primary_fur_color', 'N/A') for squirrel in squirrels_by_park[park_name]])\n"
   ]
  },
  {
   "cell_type": "markdown",
   "id": "f91fe53b-7df9-4d93-bfa3-dcf1700628c0",
   "metadata": {},
   "source": [
    "### Popping and deleting from dictionaries"
   ]
  },
  {
   "cell_type": "code",
   "execution_count": 46,
   "id": "d0ede248-58d7-4887-b282-13310eb79dbc",
   "metadata": {},
   "outputs": [
    {
     "name": "stdout",
     "output_type": "stream",
     "text": [
      "{'Tompkins Square Park': [{'primary_fur_color': 'Gray', 'highlights_in_fur_color': 'Gray', 'activities': 'Foraging', 'interactions_with_humans': 'Approaches'}, {'primary_fur_color': 'Gray', 'highlights_in_fur_color': 'Gray', 'activities': 'Climbing (down tree)', 'interactions_with_humans': 'Indifferent'}, {'primary_fur_color': 'Gray', 'highlights_in_fur_color': 'Gray', 'activities': 'Foraging', 'interactions_with_humans': 'Indifferent'}, {'primary_fur_color': 'Gray', 'highlights_in_fur_color': 'Gray', 'activities': 'Foraging', 'interactions_with_humans': 'Indifferent'}]}\n"
     ]
    }
   ],
   "source": [
    "squirrels_by_park = {'Madison Square Park': [{'primary_fur_color': 'Gray',\n",
    "   'highlights_in_fur_color': None,\n",
    "   'activities': 'Foraging',\n",
    "   'interactions_with_humans': 'Indifferent'},\n",
    "  {'primary_fur_color': 'Gray',\n",
    "   'highlights_in_fur_color': None,\n",
    "   'activities': 'Sitting',\n",
    "   'interactions_with_humans': 'Indifferent'}],\n",
    " 'Tompkins Square Park': [{'primary_fur_color': 'Gray',\n",
    "   'highlights_in_fur_color': 'Gray',\n",
    "   'activities': 'Foraging',\n",
    "   'interactions_with_humans': 'Approaches'},\n",
    "  {'primary_fur_color': 'Gray',\n",
    "   'highlights_in_fur_color': 'Gray',\n",
    "   'activities': 'Climbing (down tree)',\n",
    "   'interactions_with_humans': 'Indifferent'},\n",
    "  {'primary_fur_color': 'Gray',\n",
    "   'highlights_in_fur_color': 'Gray',\n",
    "   'activities': 'Foraging',\n",
    "   'interactions_with_humans': 'Indifferent'},\n",
    "  {'primary_fur_color': 'Gray',\n",
    "   'highlights_in_fur_color': 'Gray',\n",
    "   'activities': 'Foraging',\n",
    "   'interactions_with_humans': 'Indifferent'}],\n",
    " 'Union Square Park': [{'primary_fur_color': 'Gray',\n",
    "   'highlights_in_fur_color': None,\n",
    "   'activities': 'Eating, Foraging',\n",
    "   'interactions_with_humans': None},\n",
    "  {'primary_fur_color': 'Cinnamon',\n",
    "   'highlights_in_fur_color': None,\n",
    "   'activities': 'Foraging',\n",
    "   'interactions_with_humans': None},\n",
    "  {'primary_fur_color': 'Gray',\n",
    "   'highlights_in_fur_color': None,\n",
    "   'activities': 'Eating, Foraging',\n",
    "   'interactions_with_humans': None},\n",
    "  {'primary_fur_color': 'Gray',\n",
    "   'highlights_in_fur_color': None,\n",
    "   'activities': 'Digging',\n",
    "   'interactions_with_humans': 'Indifferent'}]}\n",
    "\n",
    "# Remove \"Madison Square Park\" from squirrels_by_park\n",
    "squirrels_madison = squirrels_by_park.pop('Madison Square Park')\n",
    "\n",
    "# Safely remove 'City Hall Park' from squirrels_by_park with an empty dictionary as the default\n",
    "squirrels_city_hall = squirrels_by_park.pop('City Hall Park', {})\n",
    "\n",
    "# Delete \"Union Square Park\" from squirrels_by_park\n",
    "del squirrels_by_park[\"Union Square Park\"]\n",
    "\n",
    "# Print squirrels_by_park\n",
    "print(squirrels_by_park)"
   ]
  },
  {
   "cell_type": "markdown",
   "id": "0682fe6f-e9c6-41a8-9002-afae3bd66b87",
   "metadata": {},
   "source": [
    "### Working with dictionaries more pythonically"
   ]
  },
  {
   "cell_type": "code",
   "execution_count": 53,
   "id": "a3afdd3d-975a-48c9-8ed0-aa9e96718dd5",
   "metadata": {},
   "outputs": [
    {
     "name": "stdout",
     "output_type": "stream",
     "text": [
      "primary_fur_color Gray\n",
      "highlights_in_fur_color None\n",
      "activities Foraging\n",
      "interactions_with_humans Indifferent\n",
      "-------------\n",
      "primary_fur_color Cinnamon\n",
      "highlights_in_fur_color None\n",
      "activities Foraging\n",
      "interactions_with_humans None\n"
     ]
    }
   ],
   "source": [
    "squirrels_by_park = {'Madison Square Park': [{'primary_fur_color': 'Gray',\n",
    "   'highlights_in_fur_color': None,\n",
    "   'activities': 'Foraging',\n",
    "   'interactions_with_humans': 'Indifferent'},\n",
    "  {'primary_fur_color': 'Gray',\n",
    "   'highlights_in_fur_color': None,\n",
    "   'activities': 'Sitting',\n",
    "   'interactions_with_humans': 'Indifferent'}],\n",
    " 'Union Square Park': [{'primary_fur_color': 'Gray',\n",
    "   'highlights_in_fur_color': None,\n",
    "   'activities': 'Eating, Foraging',\n",
    "   'interactions_with_humans': None},\n",
    "  {'primary_fur_color': 'Cinnamon',\n",
    "   'highlights_in_fur_color': None,\n",
    "   'activities': 'Foraging',\n",
    "   'interactions_with_humans': None},\n",
    "  {'primary_fur_color': 'Gray',\n",
    "   'highlights_in_fur_color': None,\n",
    "   'activities': 'Eating, Foraging',\n",
    "   'interactions_with_humans': None},\n",
    "  {'primary_fur_color': 'Gray',\n",
    "   'highlights_in_fur_color': None,\n",
    "   'activities': 'Digging',\n",
    "   'interactions_with_humans': 'Indifferent'}]}\n",
    "# Iterate over the first squirrel entry in the Madison Square Park list\n",
    "for field, value in squirrels_by_park['Madison Square Park'][0].items():\n",
    "    # Print field and value\n",
    "    print(field, value)\n",
    "print('-' * 13)\n",
    "\n",
    "# Iterate over the second squirrel entry in the Union Square Park list\n",
    "for field, value in squirrels_by_park['Union Square Park'][1].items():\n",
    "    # Print field and value\n",
    "    print(field, value)"
   ]
  },
  {
   "cell_type": "markdown",
   "id": "ffadf07d-1967-4b73-9ca1-d51371c51e90",
   "metadata": {},
   "source": [
    "### Check dictionaries for data"
   ]
  },
  {
   "cell_type": "code",
   "execution_count": 55,
   "id": "8ca943d2-e1e2-4cfa-ac72-99c375a1c61c",
   "metadata": {},
   "outputs": [
    {
     "name": "stdout",
     "output_type": "stream",
     "text": [
      "Central Park missing\n"
     ]
    }
   ],
   "source": [
    "# Check to see if Tompkins Square Park is in squirrels_by_park\n",
    "if \"Tompkins Square Park\" in squirrels_by_park:\n",
    "    # Print 'Found Tompkins Square Park'\n",
    "    print('Found Tompkins Square Park')\n",
    "\n",
    "# Check to see if Central Park is in squirrels_by_park\n",
    "if \"Central Park\" in squirrels_by_park:\n",
    "    # Print 'Found Central Park' if found\n",
    "    print(\"Found Central Park\")\n",
    "else:\n",
    "    # Print 'Central Park missing' if not found\n",
    "    print(\"Central Park missing\")"
   ]
  },
  {
   "cell_type": "markdown",
   "id": "0787ae53-e559-4e35-a9cd-9d0b6245b16c",
   "metadata": {},
   "source": [
    "### Dealing with nested dictionaries"
   ]
  },
  {
   "cell_type": "code",
   "execution_count": 59,
   "id": "8e2ce831-8399-41b8-9fa5-99b15e643953",
   "metadata": {},
   "outputs": [
    {
     "name": "stdout",
     "output_type": "stream",
     "text": [
      "dict_keys(['J. Hood Wright Park', 'Stuyvesant Square Park', 'Highbridge Park', 'Tompkins Square Park', 'Union Square Park', 'City Hall Park', 'Msgr. McGolrick Park', 'John V. Lindsay East River Park'])\n",
      "dict_keys(['primary_fur_color', 'activities', 'interactions_with_humans'])\n",
      "J. Hood Wright Park Cinnamon\n",
      "Stuyvesant Square Park Cinnamon\n",
      "Highbridge Park White\n",
      "Tompkins Square Park Gray\n",
      "Union Square Park N/A\n",
      "City Hall Park White\n",
      "Msgr. McGolrick Park Cinnamon\n",
      "John V. Lindsay East River Park Gray\n"
     ]
    }
   ],
   "source": [
    "squirrels_by_park = {'J. Hood Wright Park': {'primary_fur_color': 'Gray',\n",
    "  'highlights_in_fur_color': 'Cinnamon',\n",
    "  'activities': 'Running',\n",
    "  'interactions_with_humans': 'Indifferent'},\n",
    " 'Stuyvesant Square Park': {'primary_fur_color': 'Gray',\n",
    "  'highlights_in_fur_color': 'Cinnamon',\n",
    "  'activities': 'Foraging',\n",
    "  'interactions_with_humans': 'Indifferent'},\n",
    " 'Highbridge Park': {'primary_fur_color': 'Gray',\n",
    "  'highlights_in_fur_color': 'White',\n",
    "  'activities': 'Climbing',\n",
    "  'interactions_with_humans': None},\n",
    " 'Tompkins Square Park': {'primary_fur_color': 'Gray',\n",
    "  'highlights_in_fur_color': 'Gray',\n",
    "  'activities': 'Foraging',\n",
    "  'interactions_with_humans': None},\n",
    " 'Union Square Park': {'primary_fur_color': 'Gray',\n",
    "  'activities': 'Eating, Foraging',\n",
    "  'interactions_with_humans': None},\n",
    " 'City Hall Park': {'primary_fur_color': 'Gray',\n",
    "  'highlights_in_fur_color': 'White',\n",
    "  'activities': 'Eating, Foraging',\n",
    "  'interactions_with_humans': 'Indifferent'},\n",
    " 'Msgr. McGolrick Park': {'primary_fur_color': 'Gray',\n",
    "  'highlights_in_fur_color': 'Cinnamon',\n",
    "  'activities': 'Running',\n",
    "  'interactions_with_humans': 'Indifferent'},\n",
    " 'John V. Lindsay East River Park': {'primary_fur_color': 'Gray',\n",
    "  'highlights_in_fur_color': 'Gray',\n",
    "  'activities': 'Running, Chasing, Eating',\n",
    "  'interactions_with_humans': None}}\n",
    "\n",
    "# Print a list of keys from the squirrels_by_park dictionary\n",
    "print(squirrels_by_park.keys())\n",
    "\n",
    "# Print the keys from squirrels_by_park dictionary for 'Union Square Park'\n",
    "print(squirrels_by_park['Union Square Park'].keys())\n",
    "\n",
    "# Loop over the dictionary\n",
    "for park_name in squirrels_by_park:\n",
    "    # Safely print the park_name and highlights_in_fur_color or 'N/A'\n",
    "    print(park_name, squirrels_by_park[park_name].get('highlights_in_fur_color', 'N/A'))"
   ]
  },
  {
   "cell_type": "markdown",
   "id": "a9f204cc-9137-4ba6-949a-97ebb37299a7",
   "metadata": {},
   "source": [
    "### Dealing with nested mixed types"
   ]
  },
  {
   "cell_type": "code",
   "execution_count": 66,
   "id": "d20b498e-a6c3-4b18-b883-cdc5739c04c0",
   "metadata": {},
   "outputs": [
    {
     "name": "stdout",
     "output_type": "stream",
     "text": [
      "Foraging\n",
      "Climbing (down tree)\n",
      "None\n",
      "Foraging\n",
      "[{'primary_fur_color': 'Cinnamon', 'highlights_in_fur_color': None, 'activities': 'Foraging', 'interactions_with_humans': None}]\n"
     ]
    }
   ],
   "source": [
    "squirrels_by_park = {'Tompkins Square Park': [{'primary_fur_color': 'Gray',\n",
    "   'highlights_in_fur_color': 'Gray',\n",
    "   'activities': 'Foraging',\n",
    "   'interactions_with_humans': 'Approaches'},\n",
    "  {'primary_fur_color': 'Gray',\n",
    "   'highlights_in_fur_color': 'Gray',\n",
    "   'activities': 'Climbing (down tree)',\n",
    "   'interactions_with_humans': 'Indifferent'},\n",
    "  {'primary_fur_color': 'Gray',\n",
    "   'highlights_in_fur_color': 'Gray',\n",
    "   'interactions_with_humans': 'Indifferent'},\n",
    "  {'primary_fur_color': 'Gray',\n",
    "   'highlights_in_fur_color': 'Gray',\n",
    "   'activities': 'Foraging',\n",
    "   'interactions_with_humans': 'Indifferent'}],\n",
    " 'Union Square Park': [{'primary_fur_color': 'Gray',\n",
    "   'highlights_in_fur_color': None,\n",
    "   'activities': 'Eating, Foraging',\n",
    "   'interactions_with_humans': None},\n",
    "  {'primary_fur_color': 'Cinnamon',\n",
    "   'highlights_in_fur_color': None,\n",
    "   'activities': 'Foraging',\n",
    "   'interactions_with_humans': None},\n",
    "  {'primary_fur_color': 'Gray',\n",
    "   'highlights_in_fur_color': None,\n",
    "   'activities': 'Eating, Foraging',\n",
    "   'interactions_with_humans': None},\n",
    "  {'primary_fur_color': 'Gray',\n",
    "   'highlights_in_fur_color': None,\n",
    "   'activities': 'Digging',\n",
    "   'interactions_with_humans': 'Indifferent'}]}\n",
    "\n",
    "# Use a for loop to iterate over the squirrels in Tompkins Square Park:\n",
    "for squirrel in squirrels_by_park['Tompkins Square Park']:\n",
    "    # Safely print the activities of each squirrel or None\n",
    "    print(squirrel.get('activities'))\n",
    "\n",
    "# Print the list of 'Cinnamon' primary_fur_color squirrels in Union Square Park\n",
    "print([squirrel for squirrel in squirrels_by_park['Union Square Park'] if \"Cinnamon\" in squirrel.get('primary_fur_color')])"
   ]
  },
  {
   "cell_type": "markdown",
   "id": "bf90ad90-3feb-4522-a72d-7ad0ca2a9789",
   "metadata": {},
   "source": [
    "## Numeric Data Types, Booleans, and Sets"
   ]
  },
  {
   "cell_type": "markdown",
   "id": "9ba83b55-cab6-4583-87e5-bd5304949e49",
   "metadata": {},
   "source": [
    "### Printing floats"
   ]
  },
  {
   "cell_type": "code",
   "execution_count": 73,
   "id": "2b5b4057-5892-4edc-8257-cd2aeab1b9e4",
   "metadata": {},
   "outputs": [
    {
     "name": "stdout",
     "output_type": "stream",
     "text": [
      "0.0001\n",
      "1e-05\n",
      "1e-07\n",
      "0.000010\n",
      "0.000000\n",
      "0.0000001\n"
     ]
    }
   ],
   "source": [
    "float1 = 0.0001\n",
    "float2 = 1e-05\n",
    "float3 = 1e-07\n",
    "\n",
    "# Print floats 1, 2, and 3\n",
    "print(float1)\n",
    "print(float2)\n",
    "print(float3)\n",
    "\n",
    "# Print floats 2 and 3 using the f-string formatter\n",
    "print(f\"{float2:f}\")\n",
    "print(f\"{float3:f}\")\n",
    "\n",
    "# Print float 3 with a 7 f-string precision\n",
    "print(f\"{float3:.7f}\")"
   ]
  },
  {
   "cell_type": "markdown",
   "id": "f1a4b469-f9e0-43e6-99fe-8ea5721250a0",
   "metadata": {},
   "source": [
    "### Division with integers and floats"
   ]
  },
  {
   "cell_type": "code",
   "execution_count": 77,
   "id": "2027f618-9328-47f4-986a-27d8d4f8faa1",
   "metadata": {},
   "outputs": [
    {
     "name": "stdout",
     "output_type": "stream",
     "text": [
      "2.0\n",
      "0.5\n",
      "2\n",
      "0\n",
      "<class 'float'>\n",
      "<class 'int'>\n"
     ]
    }
   ],
   "source": [
    "# Print the result of 2/1 and 1/2\n",
    "print(2/1)\n",
    "print(1/2)\n",
    "\n",
    "# Print the floored division result of 2//1 and 1//2\n",
    "print(2//1)\n",
    "print(1//2)\n",
    "\n",
    "# Print the type of 2/1 and 2//1\n",
    "print(type(2/1))\n",
    "print(type(2//1))"
   ]
  },
  {
   "cell_type": "markdown",
   "id": "ed83b93d-1240-4a83-aaa5-90d72c0205dd",
   "metadata": {},
   "source": [
    "### More than just true and false"
   ]
  },
  {
   "cell_type": "code",
   "execution_count": 79,
   "id": "3f6effe1-3bc2-4274-b157-ea52062e6ece",
   "metadata": {},
   "outputs": [
    {
     "name": "stdout",
     "output_type": "stream",
     "text": [
      "False\n",
      "True\n"
     ]
    }
   ],
   "source": [
    "# Create an empty list\n",
    "my_list = []\n",
    "\n",
    "# Check the truthiness of my_list\n",
    "print(bool(my_list))\n",
    "\n",
    "# Append the string 'cookies' to my_list\n",
    "my_list.append('cookies')\n",
    "\n",
    "# Check the truthiness of my_list\n",
    "print(bool(my_list))"
   ]
  },
  {
   "cell_type": "markdown",
   "id": "ca0ecdb5-9f3f-41aa-aed4-116ca0f5e94a",
   "metadata": {},
   "source": [
    "### Comparisons"
   ]
  },
  {
   "cell_type": "code",
   "execution_count": 82,
   "id": "3f967c63-263b-4ab8-9523-9204befc8323",
   "metadata": {},
   "outputs": [
    {
     "name": "stdout",
     "output_type": "stream",
     "text": [
      "Adlie - FEMALE\n",
      "Gentoo - FEMALE\n",
      "Adlie - MALE\n",
      "Gentoo - FEMALE\n",
      "Gentoo - FEMALE\n",
      "Chinstrap - FEMALE\n",
      "Adlie - MALE\n",
      "Chinstrap - FEMALE\n",
      "Chinstrap - FEMALE\n",
      "Adlie - FEMALE\n",
      "Gentoo - FEMALE\n",
      "Adlie - MALE\n",
      "Adlie - FEMALE\n",
      "Adlie - FEMALE\n",
      "Gentoo - .\n",
      "Gentoo - FEMALE\n",
      "Adlie - MALE\n",
      "Gentoo - MALE\n"
     ]
    }
   ],
   "source": [
    "penguins = [{'species': 'Adlie',\n",
    "  'flipper_length': 190.0,\n",
    "  'body_mass': 3050.0,\n",
    "  'sex': 'FEMALE'},\n",
    " {'species': 'Adlie',\n",
    "  'flipper_length': 184.0,\n",
    "  'body_mass': 3325.0,\n",
    "  'sex': 'FEMALE'},\n",
    " {'species': 'Gentoo',\n",
    "  'flipper_length': 209.0,\n",
    "  'body_mass': 4800.0,\n",
    "  'sex': 'FEMALE'},\n",
    " {'species': 'Adlie',\n",
    "  'flipper_length': 193.0,\n",
    "  'body_mass': 4200.0,\n",
    "  'sex': 'MALE'},\n",
    " {'species': 'Gentoo',\n",
    "  'flipper_length': 210.0,\n",
    "  'body_mass': 4400.0,\n",
    "  'sex': 'FEMALE'},\n",
    " {'species': 'Gentoo',\n",
    "  'flipper_length': 213.0,\n",
    "  'body_mass': 4650.0,\n",
    "  'sex': 'FEMALE'},\n",
    " {'species': 'Chinstrap',\n",
    "  'flipper_length': 193.0,\n",
    "  'body_mass': 3600.0,\n",
    "  'sex': 'FEMALE'},\n",
    " {'species': 'Adlie',\n",
    "  'flipper_length': 193.0,\n",
    "  'body_mass': 3800.0,\n",
    "  'sex': 'MALE'},\n",
    " {'species': 'Chinstrap',\n",
    "  'flipper_length': 199.0,\n",
    "  'body_mass': 3900.0,\n",
    "  'sex': 'FEMALE'},\n",
    " {'species': 'Chinstrap',\n",
    "  'flipper_length': 195.0,\n",
    "  'body_mass': 3650.0,\n",
    "  'sex': 'FEMALE'},\n",
    " {'species': 'Adlie',\n",
    "  'flipper_length': 185.0,\n",
    "  'body_mass': 3700.0,\n",
    "  'sex': 'FEMALE'},\n",
    " {'species': 'Gentoo',\n",
    "  'flipper_length': 208.0,\n",
    "  'body_mass': 4575.0,\n",
    "  'sex': 'FEMALE'},\n",
    " {'species': 'Adlie',\n",
    "  'flipper_length': 196.0,\n",
    "  'body_mass': 4350.0,\n",
    "  'sex': 'MALE'},\n",
    " {'species': 'Adlie',\n",
    "  'flipper_length': 191.0,\n",
    "  'body_mass': 3700.0,\n",
    "  'sex': 'FEMALE'},\n",
    " {'species': 'Chinstrap',\n",
    "  'flipper_length': 195.0,\n",
    "  'body_mass': 3300.0,\n",
    "  'sex': 'FEMALE'},\n",
    " {'species': 'Adlie',\n",
    "  'flipper_length': 195.0,\n",
    "  'body_mass': 3450.0,\n",
    "  'sex': 'FEMALE'},\n",
    " {'species': 'Gentoo',\n",
    "  'flipper_length': 217.0,\n",
    "  'body_mass': 4875.0,\n",
    "  'sex': '.'},\n",
    " {'species': 'Gentoo',\n",
    "  'flipper_length': 212.0,\n",
    "  'body_mass': 4875.0,\n",
    "  'sex': 'FEMALE'},\n",
    " {'species': 'Adlie',\n",
    "  'flipper_length': 205.0,\n",
    "  'body_mass': 4300.0,\n",
    "  'sex': 'MALE'},\n",
    " {'species': 'Gentoo',\n",
    "  'flipper_length': 220.0,\n",
    "  'body_mass': 6000.0,\n",
    "  'sex': 'MALE'}]\n",
    "\n",
    "# Use a for loop to iterate over the penguins list\n",
    "for penguin in penguins:\n",
    "    # Check the penguin entry for a body mass of more than 3300 grams\n",
    "    if penguin['body_mass'] > 3300:\n",
    "        # Print the species and sex of the penguin if true\n",
    "        print(f\"{penguin['species']} - {penguin['sex']}\")"
   ]
  },
  {
   "cell_type": "markdown",
   "id": "5b18c982-d81d-41f1-bc21-87fd2120f127",
   "metadata": {},
   "source": [
    "### Truthy, True, Falsey, and False"
   ]
  },
  {
   "cell_type": "code",
   "execution_count": 86,
   "id": "9394ba56-127e-46b0-8e5b-ede5635e0d4f",
   "metadata": {},
   "outputs": [
    {
     "name": "stdout",
     "output_type": "stream",
     "text": [
      "FEMALE: False\n",
      "True: True\n"
     ]
    }
   ],
   "source": [
    "penguin_305_details = {'species': 'Adlie',\n",
    " 'flipper_length': 190.0,\n",
    " 'body_mass': 3050.0,\n",
    " 'tracked': True,\n",
    " 'sex': 'FEMALE'}\n",
    "\n",
    "# Check the truthiness of penguin_305_details sex key\n",
    "if penguin_305_details['sex']:\n",
    "    # If true, check if sex is True and store is as sex_is_true\n",
    "    sex_is_true = penguin_305_details['sex'] is True\n",
    "    # Print the sex key's value and sex_is_true\n",
    "    print(f\"{penguin_305_details['sex']}: {sex_is_true}\")\n",
    "\n",
    "# Check the truthiness of penguin_305_details tracked key\n",
    "if penguin_305_details['tracked']:\n",
    "    # If true, check if tracked is True and store it as tracked_is_true\n",
    "    tracked_is_true = penguin_305_details['tracked'] is True\n",
    "    print(f\"{penguin_305_details['tracked']}: {tracked_is_true}\")\n",
    "    "
   ]
  },
  {
   "cell_type": "code",
   "execution_count": null,
   "id": "68b11a10-d12d-4983-a92a-242385d70c25",
   "metadata": {},
   "outputs": [],
   "source": []
  }
 ],
 "metadata": {
  "kernelspec": {
   "display_name": "Python 3 (ipykernel)",
   "language": "python",
   "name": "python3"
  },
  "language_info": {
   "codemirror_mode": {
    "name": "ipython",
    "version": 3
   },
   "file_extension": ".py",
   "mimetype": "text/x-python",
   "name": "python",
   "nbconvert_exporter": "python",
   "pygments_lexer": "ipython3",
   "version": "3.12.7"
  }
 },
 "nbformat": 4,
 "nbformat_minor": 5
}
