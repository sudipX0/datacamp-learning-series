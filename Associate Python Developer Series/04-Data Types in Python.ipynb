{
 "cells": [
  {
   "cell_type": "markdown",
   "id": "43345ae4-157e-4600-94c5-bd078970af64",
   "metadata": {},
   "source": [
    "## Fundamental Sequence Data Types"
   ]
  },
  {
   "cell_type": "markdown",
   "id": "4b769797-5b97-4adb-8e4f-fd0820f1e847",
   "metadata": {},
   "source": [
    "### Manipulating lists for fun and profit"
   ]
  },
  {
   "cell_type": "code",
   "execution_count": 2,
   "id": "0a02c1ac-1ce3-4184-a72b-ad6ee535d34f",
   "metadata": {},
   "outputs": [
    {
     "name": "stdout",
     "output_type": "stream",
     "text": [
      "['Ximena', 'Aliza', 'Ayden', 'Calvin', 'Sandeep']\n"
     ]
    }
   ],
   "source": [
    "# Create a list containing the names: baby_names\n",
    "baby_names = ['Ximena', 'Aliza', 'Ayden', 'Calvin']\n",
    "\n",
    "# Extend baby_names with 'Rowen' and 'Sandeep'\n",
    "baby_names.extend(['Rowen', 'Sandeep'])\n",
    "\n",
    "# Find the position of 'Rowen': position\n",
    "position = baby_names.index('Rowen')\n",
    "baby_names.pop(position)\n",
    "\n",
    "# Print baby_names\n",
    "print(baby_names)"
   ]
  },
  {
   "cell_type": "markdown",
   "id": "7c827973-7434-479a-81af-c8cd30d6459a",
   "metadata": {},
   "source": [
    "### Looping over lists"
   ]
  },
  {
   "cell_type": "code",
   "execution_count": 3,
   "id": "6dd3ebb7-fecc-4e91-b71e-f0fd6fad0efc",
   "metadata": {},
   "outputs": [
    {
     "name": "stdout",
     "output_type": "stream",
     "text": [
      "['Abigail', 'Addison', 'Amelia', 'Aubrey', 'Ava', 'Avery', 'Brooklyn', 'Charlotte', 'Chloe', 'Elizabeth', 'Ella', 'Emily', 'Emma', 'Evelyn', 'Grace', 'Harper', 'Isabella', 'Lillian', 'Madison', 'Mia', 'Natalie', 'Olivia', 'Sofia', 'Sophia', 'Victoria', 'Zoey']\n"
     ]
    }
   ],
   "source": [
    "records = [['2014', 'F', '20799', 'Emma'],\n",
    " ['2014', 'F', '19674', 'Olivia'],\n",
    " ['2014', 'F', '18490', 'Sophia'],\n",
    " ['2014', 'F', '16950', 'Isabella'],\n",
    " ['2014', 'F', '15586', 'Ava'],\n",
    " ['2014', 'F', '13442', 'Mia'],\n",
    " ['2014', 'F', '12562', 'Emily'],\n",
    " ['2014', 'F', '11985', 'Abigail'],\n",
    " ['2014', 'F', '10247', 'Madison'],\n",
    " ['2014', 'F', '10048', 'Charlotte'],\n",
    " ['2014', 'F', '9564', 'Harper'],\n",
    " ['2014', 'F', '9542', 'Sofia'],\n",
    " ['2014', 'F', '9517', 'Avery'],\n",
    " ['2014', 'F', '9492', 'Elizabeth'],\n",
    " ['2014', 'F', '8727', 'Amelia'],\n",
    " ['2014', 'F', '8692', 'Evelyn'],\n",
    " ['2014', 'F', '8489', 'Ella'],\n",
    " ['2014', 'F', '8469', 'Chloe'],\n",
    " ['2014', 'F', '7955', 'Victoria'],\n",
    " ['2014', 'F', '7589', 'Aubrey'],\n",
    " ['2014', 'F', '7554', 'Grace'],\n",
    " ['2014', 'F', '7358', 'Zoey'],\n",
    " ['2014', 'F', '7061', 'Natalie'],\n",
    " ['2014', 'F', '6950', 'Addison'],\n",
    " ['2014', 'F', '6869', 'Lillian'],\n",
    " ['2014', 'F', '6767', 'Brooklyn']]\n",
    "\n",
    "# Create the list comprehension: baby_names\n",
    "baby_names = [row[3] for row in records]\n",
    "\n",
    "# Print the sorted baby names in ascending alphabetical order\n",
    "print(sorted(baby_names))"
   ]
  },
  {
   "cell_type": "markdown",
   "id": "9f219406-f548-4cb5-aea8-b84b882b5681",
   "metadata": {},
   "source": [
    "### Using and unpacking tuples"
   ]
  },
  {
   "cell_type": "code",
   "execution_count": 2,
   "id": "e3b2d1c2-3e41-4954-acf1-87f137406af7",
   "metadata": {},
   "outputs": [],
   "source": [
    "boy_names = ['Josiah',\n",
    " 'Ethan',\n",
    " 'David',\n",
    " 'Jayden',\n",
    " 'Mason',\n",
    " 'Ryan',\n",
    " 'Christian',\n",
    " 'Isaiah',\n",
    " 'Jayden',\n",
    " 'Michael',\n",
    " 'Noah',\n",
    " 'Samuel',\n",
    " 'Sebastian',\n",
    " 'Noah',\n",
    " 'Dylan',\n",
    " 'Lucas',\n",
    " 'Joshua',\n",
    " 'Angel',\n",
    " 'Jacob',\n",
    " 'Matthew',\n",
    " 'Josiah',\n",
    " 'Jacob',\n",
    " 'Muhammad',\n",
    " 'Alexander',\n",
    " 'Jason']\n",
    "\n",
    "girl_names = ['Jada',\n",
    " 'Emily',\n",
    " 'Ava',\n",
    " 'Serenity',\n",
    " 'Claire',\n",
    " 'Sophia',\n",
    " 'Sarah',\n",
    " 'Ashley',\n",
    " 'Chaya',\n",
    " 'Abigail',\n",
    " 'Zoe',\n",
    " 'Leah',\n",
    " 'Hailey',\n",
    " 'Ava',\n",
    " 'Olivia',\n",
    " 'Emma',\n",
    " 'Chloe',\n",
    " 'Sophia',\n",
    " 'Aaliyah',\n",
    " 'Angela',\n",
    " 'Camila',\n",
    " 'Savannah',\n",
    " 'Serenity',\n",
    " 'Chloe',\n",
    " 'Fatoumata']\n"
   ]
  },
  {
   "cell_type": "code",
   "execution_count": 4,
   "id": "f79fae40-5f91-44fc-9cfe-bc7bc962aac4",
   "metadata": {},
   "outputs": [
    {
     "name": "stdout",
     "output_type": "stream",
     "text": [
      "Rank 1: Jada and Josiah\n",
      "Rank 2: Emily and Ethan\n",
      "Rank 3: Ava and David\n",
      "Rank 4: Serenity and Jayden\n",
      "Rank 5: Claire and Mason\n",
      "Rank 6: Sophia and Ryan\n",
      "Rank 7: Sarah and Christian\n",
      "Rank 8: Ashley and Isaiah\n",
      "Rank 9: Chaya and Jayden\n",
      "Rank 10: Abigail and Michael\n",
      "Rank 11: Zoe and Noah\n",
      "Rank 12: Leah and Samuel\n",
      "Rank 13: Hailey and Sebastian\n",
      "Rank 14: Ava and Noah\n",
      "Rank 15: Olivia and Dylan\n",
      "Rank 16: Emma and Lucas\n",
      "Rank 17: Chloe and Joshua\n",
      "Rank 18: Sophia and Angel\n",
      "Rank 19: Aaliyah and Jacob\n",
      "Rank 20: Angela and Matthew\n",
      "Rank 21: Camila and Josiah\n",
      "Rank 22: Savannah and Jacob\n",
      "Rank 23: Serenity and Muhammad\n",
      "Rank 24: Chloe and Alexander\n",
      "Rank 25: Fatoumata and Jason\n"
     ]
    }
   ],
   "source": [
    "# Pair up the girl and boy names: pairs\n",
    "pairs = zip(girl_names, boy_names)\n",
    "\n",
    "# Iterate over pairs\n",
    "for rank, pair in enumerate(pairs):\n",
    "    # Unpack pair: girl_name, boy_name\n",
    "    girl_name, boy_name = pair\n",
    "    # Print the rank and names associated with each rank\n",
    "    print(f\"Rank {rank + 1}: {girl_name} and {boy_name}\")"
   ]
  },
  {
   "cell_type": "markdown",
   "id": "2acc96cb-17d1-4520-8444-f7b24abb2804",
   "metadata": {},
   "source": [
    "### Making tuples by accident"
   ]
  },
  {
   "cell_type": "code",
   "execution_count": 5,
   "id": "f44e3cc0-c2dc-48b1-93a5-2779c20d81fe",
   "metadata": {},
   "outputs": [
    {
     "name": "stdout",
     "output_type": "stream",
     "text": [
      "<class 'str'>\n",
      "<class 'tuple'>\n"
     ]
    }
   ],
   "source": [
    "# Create the normal variable: normal\n",
    "normal = 'simple'\n",
    "\n",
    "# Create the mistaken variable: error\n",
    "error = 'trailing comma',\n",
    "\n",
    "# Print the types of the variables\n",
    "print(type(normal))\n",
    "print(type(error))"
   ]
  },
  {
   "cell_type": "markdown",
   "id": "93a8d8bd-a68f-40d1-a784-44ca5d8f5d47",
   "metadata": {},
   "source": [
    "### Formatted String Literals (\"f\" strings)"
   ]
  },
  {
   "cell_type": "code",
   "execution_count": 6,
   "id": "20cc843e-98ff-4adf-b2ca-0ac638168c40",
   "metadata": {},
   "outputs": [],
   "source": [
    "top_ten_girl_names = [(1, 'Jada'),\n",
    " (2, 'Emily'),\n",
    " (3, 'Ava'),\n",
    " (4, 'Serenity'),\n",
    " (5, 'Claire'),\n",
    " (6, 'Sophia'),\n",
    " (7, 'Sarah'),\n",
    " (8, 'Ashley'),\n",
    " (9, 'Chaya'),\n",
    " (10, 'Abigail')]"
   ]
  },
  {
   "cell_type": "code",
   "execution_count": 7,
   "id": "78f6890f-48f9-46aa-b0d3-b6e7cece5f88",
   "metadata": {},
   "outputs": [
    {
     "name": "stdout",
     "output_type": "stream",
     "text": [
      "Rank #: 1 - Jada\n",
      "Rank #: 2 - Emily\n",
      "Rank #: 3 - Ava\n",
      "Rank #: 4 - Serenity\n",
      "Rank #: 5 - Claire\n",
      "Rank #: 6 - Sophia\n",
      "Rank #: 7 - Sarah\n",
      "Rank #: 8 - Ashley\n",
      "Rank #: 9 - Chaya\n",
      "Rank #: 10 - Abigail\n"
     ]
    }
   ],
   "source": [
    "# Loop over top_ten_girl_names and unpack each tuple inot top_ten_rank and name\n",
    "for top_ten_rank, name in top_ten_girl_names:\n",
    "    # Print each name in proper format\n",
    "    print(f\"Rank #: {top_ten_rank} - {name}\")"
   ]
  },
  {
   "cell_type": "markdown",
   "id": "c0aa14d9-8fe3-4e86-b391-03cb3da4e94c",
   "metadata": {},
   "source": [
    "### Combining multiple strings"
   ]
  },
  {
   "cell_type": "code",
   "execution_count": 13,
   "id": "0f5944c9-6005-49c7-8c24-d4d085a52678",
   "metadata": {},
   "outputs": [
    {
     "name": "stdout",
     "output_type": "stream",
     "text": [
      "The top ten boy names are: Josiah, Ethan, David, Jayden, Mason, Ryan, Christian, Isaiah, Jayden, and Jason.\n"
     ]
    }
   ],
   "source": [
    "# The top ten boy names are: as preamble\n",
    "preamble = \"The top ten boy names are: \"\n",
    "\n",
    "# , and as conjunction\n",
    "conjunction = \", and\"\n",
    "\n",
    "# Combines the first 9 names in boy_names with a comma and space as first_nine_names\n",
    "first_nine_names = \", \".join(boy_names[:9])\n",
    "\n",
    "# Print f-string preamble, first_nine_names, conjunction, the final item in boy_names and a period\n",
    "print(f\"{preamble}{first_nine_names}{conjunction} {boy_names[-1]}.\")"
   ]
  },
  {
   "cell_type": "markdown",
   "id": "f7dcf83d-f1bb-4434-8016-15b341a5d531",
   "metadata": {},
   "source": [
    "### Finding strings in other strings"
   ]
  },
  {
   "cell_type": "code",
   "execution_count": 15,
   "id": "a8c13de0-e71a-4f98-9452-1087cfc3df18",
   "metadata": {},
   "outputs": [
    {
     "name": "stdout",
     "output_type": "stream",
     "text": [
      "['Serenity', 'Sophia', 'Sarah', 'Sophia', 'Savannah', 'Serenity']\n"
     ]
    }
   ],
   "source": [
    "# Store a list of girl_names that start with s: names_with_s\n",
    "names_with_s = [name for name in girl_names if name.lower().startswith('s')]\n",
    "print(names_with_s)"
   ]
  },
  {
   "cell_type": "code",
   "execution_count": 17,
   "id": "265b40d7-3927-4011-8335-80f6787f2f62",
   "metadata": {},
   "outputs": [
    {
     "name": "stdout",
     "output_type": "stream",
     "text": [
      "['Angela']\n"
     ]
    }
   ],
   "source": [
    "# Store a list of girl names that contain angel: names_with_angel\n",
    "names_with_angel = [name for name in girl_names if 'angel' in name.lower()]\n",
    "print(names_with_angel)"
   ]
  },
  {
   "cell_type": "markdown",
   "id": "51b58361-eedf-45b2-9e4c-4595ebcfa65b",
   "metadata": {},
   "source": [
    "## Dictionaries - The Root of Python"
   ]
  },
  {
   "cell_type": "code",
   "execution_count": null,
   "id": "2fb39045-6477-4002-b306-a9128fb8a5a8",
   "metadata": {},
   "outputs": [],
   "source": []
  }
 ],
 "metadata": {
  "kernelspec": {
   "display_name": "Python 3 (ipykernel)",
   "language": "python",
   "name": "python3"
  },
  "language_info": {
   "codemirror_mode": {
    "name": "ipython",
    "version": 3
   },
   "file_extension": ".py",
   "mimetype": "text/x-python",
   "name": "python",
   "nbconvert_exporter": "python",
   "pygments_lexer": "ipython3",
   "version": "3.12.7"
  }
 },
 "nbformat": 4,
 "nbformat_minor": 5
}
